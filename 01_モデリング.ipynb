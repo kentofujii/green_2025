{
  "nbformat": 4,
  "nbformat_minor": 0,
  "metadata": {
    "colab": {
      "provenance": [],
      "authorship_tag": "ABX9TyPcw3PaB00uIv8jsRPSFQnL",
      "include_colab_link": true
    },
    "kernelspec": {
      "name": "python3",
      "display_name": "Python 3"
    },
    "language_info": {
      "name": "python"
    }
  },
  "cells": [
    {
      "cell_type": "markdown",
      "metadata": {
        "id": "view-in-github",
        "colab_type": "text"
      },
      "source": [
        "<a href=\"https://colab.research.google.com/github/kentofujii/green_2025/blob/main/01_%E3%83%A2%E3%83%86%E3%82%99%E3%83%AA%E3%83%B3%E3%82%AF%E3%82%99.ipynb\" target=\"_parent\"><img src=\"https://colab.research.google.com/assets/colab-badge.svg\" alt=\"Open In Colab\"/></a>"
      ]
    },
    {
      "cell_type": "markdown",
      "source": [
        "# モデリング.\n",
        "- 不均衡対応 : 重みづけ\n",
        "- パラメータチューニング : oputuna"
      ],
      "metadata": {
        "id": "GVEO_P4-QKJ-"
      }
    },
    {
      "cell_type": "code",
      "source": [
        "try:\n",
        "  from sktime.utils.plotting import plot_series\n",
        "except:\n",
        "  !pip install sktime\n",
        "  from sktime.utils.plotting import plot_series"
      ],
      "metadata": {
        "id": "bfDCq0nIsSYG"
      },
      "execution_count": null,
      "outputs": []
    },
    {
      "cell_type": "code",
      "source": [
        "trial_no = \"1\".zfill(3)\n",
        "input_date = \"20250608\"\n",
        "memo = \"ベンチマーク\"\n",
        "n_splits = 5\n",
        "early_stopping_rounds = 30\n",
        "# lightgbm\n",
        "param = {\"objective\":\"regression\",\n",
        "          \"metric\":\"rmse\",\n",
        "         \"num_iterations\":500,\n",
        "          'random_seed':0,\n",
        "         \"verbosity\":-1,\n",
        "         \"boosting_type\":\"gbdt\",#\"dart\"#\"gbdt\"\n",
        "         }\n",
        "drop_cols = []"
      ],
      "metadata": {
        "id": "xuQ2L136IqGt"
      },
      "execution_count": null,
      "outputs": []
    },
    {
      "cell_type": "code",
      "source": [
        "# マウント\n",
        "from google.colab import drive\n",
        "drive.mount('/content/drive')"
      ],
      "metadata": {
        "id": "eF2XwqkZkaEk"
      },
      "execution_count": null,
      "outputs": []
    },
    {
      "cell_type": "code",
      "source": [
        "import os\n",
        "my_folder = \"/content/drive/MyDrive/ドキュメント/コンペ/SIGNATE/SMBC_GREEN_2025\"\n",
        "os.listdir(my_folder)"
      ],
      "metadata": {
        "id": "tKS2-f7QktMx"
      },
      "execution_count": null,
      "outputs": []
    },
    {
      "cell_type": "code",
      "source": [
        "import sys\n",
        "sys.path.append(\"/content/drive/MyDrive/ドキュメント/コンペ/utils\")\n",
        "from MyFunc import opt_dtype_df,func_time,HistBox, YYPlot"
      ],
      "metadata": {
        "id": "WdlEIP0Z4KFR"
      },
      "execution_count": null,
      "outputs": []
    },
    {
      "cell_type": "code",
      "source": [
        "import pandas as pd\n",
        "import numpy as np\n",
        "import matplotlib.pyplot as plt\n",
        "import seaborn as sns\n",
        "from sklearn.model_selection import KFold, train_test_split\n",
        "from sklearn.model_selection import TimeSeriesSplit\n",
        "from sklearn.metrics import root_mean_squared_error\n",
        "import json\n",
        "import pickle"
      ],
      "metadata": {
        "id": "8ydLJla3WDBk"
      },
      "execution_count": null,
      "outputs": []
    },
    {
      "cell_type": "code",
      "source": [
        "try:\n",
        "  import optuna\n",
        "  import lightgbm\n",
        "  import optuna.integration.lightgbm as lgb\n",
        "except:\n",
        "  !pip install optuna optuna-integration lightgbm dask\n",
        "  import optuna\n",
        "  import lightgbm\n",
        "  import optuna.integration.lightgbm as lgb\n"
      ],
      "metadata": {
        "id": "OSFwyrQjWLyq"
      },
      "execution_count": null,
      "outputs": []
    },
    {
      "cell_type": "code",
      "source": [
        "fp_train = os.path.join(my_folder, f\"data/inter/inter_train_{input_date}.parq\")\n",
        "fp_test = os.path.join(my_folder, f\"data/inter/inter_test_{input_date}.parq\")\n",
        "fp_submit = os.path.join(my_folder, f\"data/input/sample_submit.csv\")\n",
        "os.makedirs(os.path.join(my_folder, f\"data/output/{trial_no}\"), exist_ok=True)\n",
        "fp_out = os.path.join(my_folder, f\"data/output/{trial_no}/{trial_no}.csv\")\n",
        "fp_model = os.path.join(my_folder, f\"data/output/{trial_no}/model.pickle\")\n",
        "fp_cond = os.path.join(my_folder, f\"data/output/{trial_no}/cond.json\")\n",
        "fp_settings = os.path.join(my_folder, f\"data/output/{trial_no}/settings.json\")\n",
        "settings_dict = {\n",
        "    \"fp_train\" : fp_train,\n",
        "    \"fp_test\" : fp_test,\n",
        "    \"memo\" : memo,\n",
        "    \"n_splits\" : n_splits,\n",
        "    \"early_stopping_rounds\" : early_stopping_rounds,\n",
        "    \"param\" : param,\n",
        "    \"drop_cols\" : drop_cols\n",
        "    }\n",
        "assert (os.path.exists(fp_train))\n",
        "assert (os.path.exists(fp_test))\n",
        "assert (os.path.exists(fp_submit))\n",
        "assert not os.path.exists(fp_out)"
      ],
      "metadata": {
        "id": "foo_oTz_ez6L"
      },
      "execution_count": null,
      "outputs": []
    },
    {
      "cell_type": "markdown",
      "source": [
        "# データ準備"
      ],
      "metadata": {
        "id": "XTbNlquHWBPx"
      }
    },
    {
      "cell_type": "code",
      "source": [
        "df_train = pd.read_parquet(fp_train)\n",
        "df_test = pd.read_parquet(fp_test)\n",
        "df_train.shape, df_test.shape"
      ],
      "metadata": {
        "id": "Jyo5p46pVs_R"
      },
      "execution_count": null,
      "outputs": []
    },
    {
      "cell_type": "code",
      "source": [
        "df_train.set_index(\"time\", inplace=True)\n",
        "df_test.set_index(\"time\", inplace=True)\n",
        "df_train.index = pd.PeriodIndex(df_train.index, freq=\"h\")\n",
        "df_test.index = pd.PeriodIndex(df_test.index, freq=\"h\")"
      ],
      "metadata": {
        "id": "NU-qPhdWj5TM"
      },
      "execution_count": null,
      "outputs": []
    },
    {
      "cell_type": "code",
      "source": [
        "target_col = \"price_actual\"\n",
        "# log_target_col = \"log_\" + target_col\n",
        "# df_train[log_target_col] = np.log1p(df_train[target_col])\n",
        "# display(df_train[log_target_col].describe())\n",
        "target_col"
      ],
      "metadata": {
        "id": "LULN6PnC-QgD"
      },
      "execution_count": null,
      "outputs": []
    },
    {
      "cell_type": "code",
      "source": [
        "HistBox(df_train[target_col])\n",
        "# q25, q75 = df_train[target_col].quantile([0.25, 0.75])\n",
        "# iqr = q75 - q25\n",
        "# idx = (df_train[target_col] >= q25 - 1.5 * iqr) & (df_train[target_col] <= q75 + 1.5 * iqr)\n",
        "df_train_raw = df_train.copy()\n",
        "# df_train = df_train[idx]\n",
        "HistBox(df_train[target_col])"
      ],
      "metadata": {
        "id": "bltKp4POazfu"
      },
      "execution_count": null,
      "outputs": []
    },
    {
      "cell_type": "code",
      "source": [
        "usecols = [x for x in df_train.columns if x not in [\"index\", target_col] + drop_cols ]\n",
        "assert len(set(usecols)-set(df_test.columns))==0"
      ],
      "metadata": {
        "id": "WnGHrjfUV_RF"
      },
      "execution_count": null,
      "outputs": []
    },
    {
      "cell_type": "code",
      "source": [
        "len(usecols), len(df_test.columns)"
      ],
      "metadata": {
        "id": "rhXKK0wwkv_E"
      },
      "execution_count": null,
      "outputs": []
    },
    {
      "cell_type": "code",
      "source": [
        "X = df_train[usecols]\n",
        "y = df_train[target_col]\n",
        "X_test = df_test[usecols]"
      ],
      "metadata": {
        "id": "NDvCXzpqW-Vh"
      },
      "execution_count": null,
      "outputs": []
    },
    {
      "cell_type": "code",
      "source": [
        "# 実験\n",
        "ts = TimeSeriesSplit(n_splits=n_splits)\n",
        "for train_index, test_index in ts.split(X):\n",
        "  print(\"学習:\", X.index[train_index].min(), \"~\", X.index[train_index].max(), \"検証:\", X.index[test_index].min(), \"~\", X.index[test_index].max())"
      ],
      "metadata": {
        "id": "g5kfXBNimRnW"
      },
      "execution_count": null,
      "outputs": []
    },
    {
      "cell_type": "markdown",
      "source": [
        "# 関数定義"
      ],
      "metadata": {
        "id": "ZhW3fkNqYP97"
      }
    },
    {
      "cell_type": "code",
      "source": [
        "def tuning(X_train : np.ndarray, y_train : np.ndarray):\n",
        "  # kf=KFold(n_splits=n_splits, shuffle=False, random_state=0)\n",
        "  ts = TimeSeriesSplit(n_splits=n_splits)\n",
        "  trainval = lgb.Dataset(X_train, label=y_train)\n",
        "\n",
        "  call_backs = []\n",
        "  if param[\"boosting_type\"]!=\"dart\":\n",
        "    call_backs += [lightgbm.early_stopping(stopping_rounds=early_stopping_rounds)]\n",
        "  # クロスバリデーションによるハイパーパラメータの探索\n",
        "  tuner = lgb.LightGBMTunerCV(param, trainval, folds=ts, callbacks=call_backs, show_progress_bar=True)\n",
        "\n",
        "  # ハイパーパラメータ探索の実行\n",
        "  tuner.run()\n",
        "\n",
        "  # サーチしたパラメータの表示\n",
        "  best_params = tuner.best_params\n",
        "  print(\"  Params: \")\n",
        "  for key, value in best_params.items():\n",
        "      print(\"    {}: {}\".format(key, value))\n",
        "  return best_params, tuner"
      ],
      "metadata": {
        "id": "u1qy8uwMXXeu"
      },
      "execution_count": null,
      "outputs": []
    },
    {
      "cell_type": "code",
      "source": [
        "# パラメータ最適化\n",
        "best_params, tuner = tuning(X, y)"
      ],
      "metadata": {
        "id": "zDSF1YbjeM9k"
      },
      "execution_count": null,
      "outputs": []
    },
    {
      "cell_type": "code",
      "source": [
        "best_params"
      ],
      "metadata": {
        "id": "cq33xWQmoBXZ"
      },
      "execution_count": null,
      "outputs": []
    },
    {
      "cell_type": "code",
      "source": [
        "test_size = len(df_train.loc[\"2017-01-01\":])\n",
        "# 最適パラメータでの評価\n",
        "X_train, X_val, y_train, y_val = train_test_split(X, y, test_size=test_size, shuffle=False)\n",
        "model = lightgbm.LGBMRegressor(**best_params)\n",
        "call_backs = [lightgbm.early_stopping(stopping_rounds=early_stopping_rounds)]\n",
        "model.fit(X_train, y_train, eval_set=[(X_train, y_train),(X_val, y_val)], callbacks=call_backs)\n",
        "# learning curve\n",
        "lightgbm.plot_metric(model)\n",
        "plt.show()\n"
      ],
      "metadata": {
        "id": "L18fzyRGeU5o"
      },
      "execution_count": null,
      "outputs": []
    },
    {
      "cell_type": "code",
      "source": [
        "HistBox(y_train)\n",
        "HistBox(y_val)"
      ],
      "metadata": {
        "id": "5HaIWoY00iD_"
      },
      "execution_count": null,
      "outputs": []
    },
    {
      "cell_type": "code",
      "source": [],
      "metadata": {
        "id": "vQO5ZYixozbF"
      },
      "execution_count": null,
      "outputs": []
    },
    {
      "cell_type": "code",
      "source": [
        "y_pred = pd.Series(model.predict(X_val), index=X_val.index)\n",
        "val_score = root_mean_squared_error(y_val, y_pred)\n",
        "print(\"validation: \", val_score)"
      ],
      "metadata": {
        "id": "T_OYie6QAtf7"
      },
      "execution_count": null,
      "outputs": []
    },
    {
      "cell_type": "code",
      "source": [
        "\n",
        "YYPlot(y_pred, y_val)\n",
        "# YYPlot(np.expm1(y_pred), np.expm1(y_val))"
      ],
      "metadata": {
        "id": "lSfkH9VP346q"
      },
      "execution_count": null,
      "outputs": []
    },
    {
      "cell_type": "code",
      "source": [
        "plot_series(y_val, y_pred)"
      ],
      "metadata": {
        "id": "Ok9wIoR54abl"
      },
      "execution_count": null,
      "outputs": []
    },
    {
      "cell_type": "markdown",
      "source": [
        "# submitファイル作成"
      ],
      "metadata": {
        "id": "AYtxu3YAnVM6"
      }
    },
    {
      "cell_type": "code",
      "source": [
        "df_sample_submit = pd.read_csv(fp_submit, header=None)\n",
        "df_sample_submit.head()"
      ],
      "metadata": {
        "id": "cwa2A6nesui_"
      },
      "execution_count": null,
      "outputs": []
    },
    {
      "cell_type": "code",
      "source": [
        "model = lightgbm.LGBMRegressor(**best_params)\n",
        "model.fit(X, y)\n"
      ],
      "metadata": {
        "id": "GfPJqAaJp_ax"
      },
      "execution_count": null,
      "outputs": []
    },
    {
      "cell_type": "code",
      "source": [
        "y_test_pred = model.predict(X_test)\n",
        "df_y_test = pd.DataFrame(zip(df_test.index, y_test_pred), columns=[\"index\", target_col])\n",
        "display(df_y_test.head())\n",
        "assert len(df_y_test) == len(df_sample_submit)\n",
        "df_y_test = df_sample_submit\n",
        "df_y_test.iloc[:, 1] = y_test_pred\n",
        "df_y_test.to_csv(fp_out, index=False, header=None)"
      ],
      "metadata": {
        "id": "w2EzVP0Mr6m4"
      },
      "execution_count": null,
      "outputs": []
    },
    {
      "cell_type": "code",
      "source": [
        "fp_settings"
      ],
      "metadata": {
        "id": "PXCaeYmg4w4u"
      },
      "execution_count": null,
      "outputs": []
    },
    {
      "cell_type": "code",
      "source": [
        "cond_dict={\"trial_no\":trial_no, \"input_date\":input_date, \"n_splits\":n_splits, \"early_stopping_rounds\":early_stopping_rounds, \"best_params\":best_params, \"val_score\":val_score}\n",
        "with open(fp_cond, \"w\") as f:\n",
        "  json.dump(cond_dict, f)\n",
        "with open(fp_model, \"wb\") as f:\n",
        "  pickle.dump(model, f)\n",
        "with open(fp_settings, \"w\", encoding=\"cp932\") as f:\n",
        "  json.dump(settings_dict, f)"
      ],
      "metadata": {
        "id": "gBUsgl7buoag"
      },
      "execution_count": null,
      "outputs": []
    },
    {
      "cell_type": "code",
      "source": [
        "# prompt: modelを読み込む\n",
        "# モデルの読み込み\n",
        "with open(fp_model, \"rb\") as f:\n",
        "  loaded_model = pickle.load(f)\n",
        "\n",
        "# 読み込んだモデルで予測\n",
        "y_test_pred_loaded = loaded_model.predict(X_test)\n",
        "# 予測結果の比較\n",
        "np.allclose(y_test_pred, y_test_pred_loaded)  # Trueが返れば、予測結果が一致\n"
      ],
      "metadata": {
        "id": "enl6U9F8x1rB"
      },
      "execution_count": null,
      "outputs": []
    },
    {
      "cell_type": "code",
      "source": [
        "X.columns"
      ],
      "metadata": {
        "id": "jRNhGoL8x-8v"
      },
      "execution_count": null,
      "outputs": []
    },
    {
      "cell_type": "code",
      "source": [],
      "metadata": {
        "id": "kiYM_CKFtDSS"
      },
      "execution_count": null,
      "outputs": []
    }
  ]
}