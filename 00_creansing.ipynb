{
  "cells": [
    {
      "cell_type": "markdown",
      "metadata": {
        "id": "view-in-github",
        "colab_type": "text"
      },
      "source": [
        "<a href=\"https://colab.research.google.com/github/kentofujii/green_2025/blob/main/00_creansing.ipynb\" target=\"_parent\"><img src=\"https://colab.research.google.com/assets/colab-badge.svg\" alt=\"Open In Colab\"/></a>"
      ]
    },
    {
      "cell_type": "markdown",
      "metadata": {
        "id": "aH22z8gYOEhp"
      },
      "source": [
        "# start"
      ]
    },
    {
      "cell_type": "code",
      "execution_count": null,
      "metadata": {
        "id": "VHH_MsCVGpzw"
      },
      "outputs": [],
      "source": [
        "# prompt: google driveにマウントする\n",
        "\n",
        "from google.colab import drive\n",
        "drive.mount('/content/drive')\n"
      ]
    },
    {
      "cell_type": "code",
      "execution_count": null,
      "metadata": {
        "id": "C-sqpRYcqDh8"
      },
      "outputs": [],
      "source": [
        "%pip install sktime"
      ]
    },
    {
      "cell_type": "code",
      "execution_count": null,
      "metadata": {
        "id": "nb9-u4GPHVkE"
      },
      "outputs": [],
      "source": [
        "import os\n",
        "import pandas as pd\n",
        "import numpy as np\n",
        "import matplotlib.pyplot as plt\n",
        "import seaborn as sns\n",
        "import itertools\n",
        "from sktime.utils.plotting import plot_series\n",
        "from sktime.transformations.series.impute import Imputer\n",
        "from sktime.forecasting.compose import make_reduction\n",
        "from sklearn.linear_model import LinearRegression"
      ]
    },
    {
      "cell_type": "code",
      "execution_count": null,
      "metadata": {
        "id": "jvYlcvcVRsuK"
      },
      "outputs": [],
      "source": [
        "from IPython.display import Markdown\n",
        "import sys\n",
        "sys.path.append(\"/content/drive/MyDrive/ドキュメント/コンペ/utils\")\n",
        "from MyFunc import opt_dtype_df, func_time, HistBox"
      ]
    },
    {
      "cell_type": "code",
      "execution_count": null,
      "metadata": {
        "id": "zrGfiQs0GxQP"
      },
      "outputs": [],
      "source": [
        "today = \"20250608\"\n",
        "my_folder = \"/content/drive/MyDrive/ドキュメント/コンペ/SIGNATE/SMBC_GREEN_2025\"\n",
        "data_folder = os.path.join(my_folder, \"data\")\n",
        "input_folder = os.path.join(data_folder, \"input\")\n",
        "inter_folder = os.path.join(data_folder, \"inter\")\n",
        "file_path_inter_train = os.path.join(inter_folder, f\"inter_train_{today}.parq\")\n",
        "file_path_inter_test = os.path.join(inter_folder, f\"inter_test_{today}.parq\")\n",
        "os.makedirs(inter_folder, exist_ok=True)\n",
        "os.listdir(input_folder)"
      ]
    },
    {
      "cell_type": "code",
      "execution_count": null,
      "metadata": {
        "id": "H0p9MDbiHQ_f"
      },
      "outputs": [],
      "source": [
        "# データ読み込み\n",
        "df_train = pd.read_csv(os.path.join(input_folder, \"train.csv\"), index_col=0)\n",
        "print(\"=\"*30,\"train_data\",\"=\"*30)\n",
        "print(df_train.shape)\n",
        "display(df_train.head())"
      ]
    },
    {
      "cell_type": "code",
      "execution_count": null,
      "metadata": {
        "id": "0TiTxOasN4s3"
      },
      "outputs": [],
      "source": [
        "df_test = pd.read_csv(os.path.join(input_folder, \"test.csv\"), index_col=0)\n",
        "print(\"=\"*30,\"test_data\",\"=\"*30)\n",
        "print(df_test.shape)\n",
        "display(df_test.head())"
      ]
    },
    {
      "cell_type": "code",
      "execution_count": null,
      "metadata": {
        "id": "jxH-tAQvi_tD"
      },
      "outputs": [],
      "source": [
        "y_name=\"price_actual\""
      ]
    },
    {
      "cell_type": "markdown",
      "metadata": {
        "id": "9rYZ4XqUIjmL"
      },
      "source": [
        "# 欠損の粗処理"
      ]
    },
    {
      "cell_type": "code",
      "execution_count": null,
      "metadata": {
        "id": "8yf_sj0lJzWK"
      },
      "outputs": [],
      "source": [
        "display(df_train.isna().sum().sort_values(ascending=False))"
      ]
    },
    {
      "cell_type": "code",
      "execution_count": null,
      "metadata": {
        "id": "N5sGVuk7Od2Y"
      },
      "outputs": [],
      "source": [
        "#trainの全部が欠損であるカラムは除外\n",
        "remove_cols = [x for x in df_train.columns if df_train[x].isna().all()]\n",
        "print(remove_cols)\n",
        "df_train.drop(remove_cols, axis=1, inplace=True)\n",
        "print(\"=\"*30,\"test_dataの欠損率\",\"=\"*30)\n",
        "display(df_test[remove_cols].isna().sum() / len(df_test))\n",
        "df_test.drop(remove_cols, axis=1, inplace=True)\n",
        "del remove_cols"
      ]
    },
    {
      "cell_type": "markdown",
      "metadata": {
        "id": "h45txvy7trnk"
      },
      "source": [
        "# プライマリキー作成"
      ]
    },
    {
      "cell_type": "code",
      "execution_count": null,
      "metadata": {
        "id": "xnSuBn0QtvFH"
      },
      "outputs": [],
      "source": [
        "df_train.reset_index(inplace=True)\n",
        "df_test.reset_index(inplace=True)\n",
        "df_train.index = pd.PeriodIndex(df_train[\"time\"], freq=\"h\")\n",
        "df_test.index = pd.PeriodIndex(df_test[\"time\"], freq=\"h\")\n",
        "pk=[\"time\"]"
      ]
    },
    {
      "cell_type": "markdown",
      "source": [
        "# yのチェック"
      ],
      "metadata": {
        "id": "2YON9lZtkQMx"
      }
    },
    {
      "cell_type": "code",
      "source": [
        "HistBox(df_train[y_name])\n",
        "plot_series(df_train[y_name])\n",
        "plt.show()"
      ],
      "metadata": {
        "id": "MWmPE6JDkSvz"
      },
      "execution_count": null,
      "outputs": []
    },
    {
      "cell_type": "code",
      "source": [],
      "metadata": {
        "id": "sc5zvIxzoYZM"
      },
      "execution_count": null,
      "outputs": []
    },
    {
      "cell_type": "markdown",
      "metadata": {
        "id": "0dM_P-h-ML7A"
      },
      "source": [
        "# 各変数のクレンジング"
      ]
    },
    {
      "cell_type": "code",
      "execution_count": null,
      "metadata": {
        "id": "KxiBjLGlXWvA"
      },
      "outputs": [],
      "source": [
        "finally_remove_cols = []\n",
        "df_train_raw = df_train.copy()\n",
        "df_test_raw = df_test.copy()"
      ]
    },
    {
      "cell_type": "code",
      "execution_count": null,
      "metadata": {
        "id": "LPCVmhe9R1Pe"
      },
      "outputs": [],
      "source": [
        "@func_time\n",
        "def disp_markdown(number: int):\n",
        "  \"\"\"\n",
        "  Markdownの表示\n",
        "\n",
        "  Parameters\n",
        "  ----------\n",
        "  number : int\n",
        "    カラム番号\n",
        "\n",
        "  Returns\n",
        "  -------\n",
        "  number : int\n",
        "    カラム番号\n",
        "  col_name : str\n",
        "    カラム名\n",
        "  \"\"\"\n",
        "  number += 1\n",
        "  display(Markdown(f\"# {number} : {df_train_raw.columns[number]}\"))\n",
        "  return number,df_train_raw.columns[number]"
      ]
    },
    {
      "cell_type": "code",
      "execution_count": null,
      "metadata": {
        "id": "uVeC2l7oiPP-"
      },
      "outputs": [],
      "source": [
        "@func_time\n",
        "def make_dummy(dataframe : pd.DataFrame, col_name : str, drop=None):\n",
        "  \"\"\"\n",
        "  ダミー変数を作成\n",
        "\n",
        "  Parameters\n",
        "  ----------\n",
        "  dataframe : pd.DataFrame\n",
        "    データフレーム\n",
        "  col_name : str\n",
        "    カラム名\n",
        "\n",
        "  Returns\n",
        "  -------\n",
        "  new_dataframe : pd.DataFrame\n",
        "    ダミー変数を作成したデータフレーム\n",
        "  \"\"\"\n",
        "  exist_na = any(dataframe[col_name].isna())\n",
        "  col_loc = dataframe.columns.get_loc(col_name)\n",
        "  if drop is None:\n",
        "    drop = not exist_na\n",
        "  df_dummy = pd.get_dummies(dataframe[col_name], dummy_na=False, drop_first=drop, prefix=col_name).astype(\"uint8\")\n",
        "  display(df_dummy.head())\n",
        "  new_dataframe = pd.concat([dataframe.iloc[:, :col_loc], df_dummy, dataframe.iloc[:, col_loc+1:]], axis=1)\n",
        "  return new_dataframe"
      ]
    },
    {
      "cell_type": "code",
      "execution_count": null,
      "metadata": {
        "id": "5My3-zUVHlE8"
      },
      "outputs": [],
      "source": [
        "def compute_absolute_humidity(df, temp_col='temperature_K', rh_col='relative_humidity'):\n",
        "    \"\"\"\n",
        "    Pandas DataFrame の温度(K)と相対湿度(%)から絶対湿度(g/m³)を計算し、新しい列として追加する。\n",
        "\n",
        "    Parameters:\n",
        "        df (pd.DataFrame): 入力データフレーム\n",
        "        temp_col (str): 温度（K）の列名\n",
        "        rh_col (str): 相対湿度（%）の列名\n",
        "\n",
        "    Returns:\n",
        "        pd.DataFrame: 'absolute_humidity' 列が追加された DataFrame\n",
        "    \"\"\"\n",
        "    # 摂氏に変換\n",
        "    temp_C = df[temp_col] - 273.15\n",
        "\n",
        "    # 飽和水蒸気圧 e_s の計算（hPa）\n",
        "    e_s = 6.112 * np.exp((17.62 * temp_C) / (temp_C + 243.12))\n",
        "\n",
        "    # 実際の水蒸気圧 e（hPa）\n",
        "    e = e_s * (df[rh_col] / 100.0)\n",
        "\n",
        "    # 絶対湿度（g/m³）の計算\n",
        "    ah = (216.7 * e) / df[temp_col]\n",
        "\n",
        "    return ah\n"
      ]
    },
    {
      "cell_type": "code",
      "execution_count": null,
      "metadata": {
        "id": "I5pMEh72Q0KL"
      },
      "outputs": [],
      "source": [
        "number = 0\n",
        "number, col = disp_markdown(number)"
      ]
    },
    {
      "cell_type": "code",
      "execution_count": null,
      "metadata": {
        "id": "mDax5ZRSQ43p"
      },
      "outputs": [],
      "source": [
        "print(\"=\"*30,\"value_counts\",\"=\"*30)\n",
        "display(df_train[col].value_counts(dropna=False).head())\n",
        "display(df_test[col].value_counts(dropna=False).head())\n",
        "print(\"=\"*30,\"na\",\"=\"*30)\n",
        "print(\"train:\",df_train[col].isna().sum())\n",
        "print(\"test :\",df_test[col].isna().sum())\n",
        "print(\"=\"*30,\"dtypes\",\"=\"*30)\n",
        "print(df_train[col].dtypes)\n",
        "print(df_test[col].dtypes)"
      ]
    },
    {
      "cell_type": "code",
      "execution_count": null,
      "metadata": {
        "id": "ARAAXazmjhXD"
      },
      "outputs": [],
      "source": [
        "HistBox(df_train[col])\n",
        "HistBox(df_test[col])"
      ]
    },
    {
      "cell_type": "code",
      "execution_count": null,
      "metadata": {
        "id": "Uf2v_zhPknAH"
      },
      "outputs": [],
      "source": [
        "plot_series(df_train[col], df_test[col])\n",
        "plt.show()"
      ]
    },
    {
      "cell_type": "code",
      "execution_count": null,
      "metadata": {
        "id": "Rju7Hdkstb1l"
      },
      "outputs": [],
      "source": [
        "na_dates = list(set([x.strftime(\"%Y-%m-%d\") for x in df_train.index[df_train[col].isna()]]))\n",
        "na_dates.sort()\n",
        "filed = Imputer(\"ffill\").fit_transform(df_train[col])  # 予測対象美の未来のデータは使えないと想定しffill\n",
        "for date in na_dates:\n",
        "  na_index = (f\"{date} 00:00\",f\"{date} 23:00\")\n",
        "  plot_series(filed.loc[na_index[0]:na_index[1]], df_train.loc[na_index[0]:na_index[1], col])\n",
        "  plt.show()\n"
      ]
    },
    {
      "cell_type": "code",
      "execution_count": null,
      "metadata": {
        "id": "NaqrzAkhjH8-"
      },
      "outputs": [],
      "source": [
        "df_train[col] = Imputer(\"ffill\").fit_transform(df_train[col])\n",
        "df_test[col] = Imputer(\"ffill\").fit_transform(df_test[col])"
      ]
    },
    {
      "cell_type": "code",
      "execution_count": null,
      "metadata": {
        "id": "AVbJNDF3Uppz"
      },
      "outputs": [],
      "source": [
        "number, col = disp_markdown(number)"
      ]
    },
    {
      "cell_type": "code",
      "execution_count": null,
      "metadata": {
        "id": "yaKf7WMgj9Ug"
      },
      "outputs": [],
      "source": [
        "print(\"=\"*30,\"value_counts\",\"=\"*30)\n",
        "display(df_train[col].value_counts(dropna=False).head())\n",
        "display(df_test[col].value_counts(dropna=False).head())\n",
        "print(\"=\"*30,\"na\",\"=\"*30)\n",
        "print(\"train:\",df_train[col].isna().sum())\n",
        "print(\"test :\",df_test[col].isna().sum())\n",
        "print(\"=\"*30,\"dtypes\",\"=\"*30)\n",
        "print(df_train[col].dtypes)\n",
        "print(df_test[col].dtypes)"
      ]
    },
    {
      "cell_type": "code",
      "execution_count": null,
      "metadata": {
        "id": "H4MZOPBRm08F"
      },
      "outputs": [],
      "source": [
        "HistBox(df_train[col])\n",
        "HistBox(df_test[col])"
      ]
    },
    {
      "cell_type": "code",
      "execution_count": null,
      "metadata": {
        "id": "wZqz_Wa80nx2"
      },
      "outputs": [],
      "source": [
        "plot_series(df_train[col], df_test[col])\n",
        "plt.show()"
      ]
    },
    {
      "cell_type": "code",
      "execution_count": null,
      "metadata": {
        "id": "VixlwD3NsYQ8"
      },
      "outputs": [],
      "source": [
        "na_dates = list(set([x.strftime(\"%Y-%m-%d\") for x in df_train.index[df_train[col].isna()]]))\n",
        "na_dates.sort()\n",
        "filed = Imputer(\"ffill\").fit_transform(df_train[col])  # 予測対象美の未来のデータは使えないと想定しffill\n",
        "for date in na_dates:\n",
        "  na_index = (f\"{date} 00:00\",f\"{date} 23:00\")\n",
        "  plot_series(filed.loc[na_index[0]:na_index[1]], df_train.loc[na_index[0]:na_index[1], col])\n",
        "  plt.show()\n"
      ]
    },
    {
      "cell_type": "code",
      "execution_count": null,
      "metadata": {
        "id": "u7F5Gprd0u4j"
      },
      "outputs": [],
      "source": [
        "df_train[col] = Imputer(\"ffill\").fit_transform(df_train[col])\n",
        "df_test[col] = Imputer(\"ffill\").fit_transform(df_test[col])"
      ]
    },
    {
      "cell_type": "code",
      "execution_count": null,
      "metadata": {
        "id": "MPlPTsZVj-X4"
      },
      "outputs": [],
      "source": [
        "number, col = disp_markdown(number)"
      ]
    },
    {
      "cell_type": "code",
      "execution_count": null,
      "metadata": {
        "id": "PogtsIsIUuJR"
      },
      "outputs": [],
      "source": [
        "print(\"=\"*30,\"value_counts\",\"=\"*30)\n",
        "display(df_train[col].value_counts(dropna=False).head())\n",
        "display(df_test[col].value_counts(dropna=False).head())\n",
        "print(\"=\"*30,\"na\",\"=\"*30)\n",
        "print(\"train:\",df_train[col].isna().sum())\n",
        "print(\"test :\",df_test[col].isna().sum())\n",
        "print(\"=\"*30,\"dtypes\",\"=\"*30)\n",
        "print(df_train[col].dtypes)\n",
        "print(df_test[col].dtypes)"
      ]
    },
    {
      "cell_type": "code",
      "execution_count": null,
      "metadata": {
        "id": "Dj68-cf1UycC"
      },
      "outputs": [],
      "source": [
        "HistBox(df_train[col])\n",
        "HistBox(df_test[col])"
      ]
    },
    {
      "cell_type": "code",
      "execution_count": null,
      "metadata": {
        "id": "0b1TiDRO05bX"
      },
      "outputs": [],
      "source": [
        "plot_series(df_train[col], df_test[col])\n",
        "plt.show()"
      ]
    },
    {
      "cell_type": "code",
      "execution_count": null,
      "metadata": {
        "id": "6Eygahdu05bY"
      },
      "outputs": [],
      "source": [
        "na_dates = list(set([x.strftime(\"%Y-%m-%d\") for x in df_train.index[df_train[col].isna()]]))\n",
        "na_dates.sort()\n",
        "filed = Imputer(\"ffill\").fit_transform(df_train[col])  # 予測対象美の未来のデータは使えないと想定しffill\n",
        "for date in na_dates:\n",
        "  na_index = (f\"{date} 00:00\",f\"{date} 23:00\")\n",
        "  plot_series(filed.loc[na_index[0]:na_index[1]], df_train.loc[na_index[0]:na_index[1], col])\n",
        "  plt.show()\n"
      ]
    },
    {
      "cell_type": "code",
      "execution_count": null,
      "metadata": {
        "id": "OBvRFA3o05bZ"
      },
      "outputs": [],
      "source": [
        "df_train[col] = Imputer(\"ffill\").fit_transform(df_train[col])\n",
        "df_test[col] = Imputer(\"ffill\").fit_transform(df_test[col])"
      ]
    },
    {
      "cell_type": "code",
      "execution_count": null,
      "metadata": {
        "id": "EB5EiQgeVA--"
      },
      "outputs": [],
      "source": [
        "number, col = disp_markdown(number)"
      ]
    },
    {
      "cell_type": "code",
      "execution_count": null,
      "metadata": {
        "id": "9vIdPMiRW8B-"
      },
      "outputs": [],
      "source": [
        "print(\"=\"*30,\"value_counts\",\"=\"*30)\n",
        "display(df_train[col].value_counts(dropna=False).head())\n",
        "display(df_test[col].value_counts(dropna=False).head())\n",
        "print(\"=\"*30,\"na\",\"=\"*30)\n",
        "print(\"train:\",df_train[col].isna().sum())\n",
        "print(\"test :\",df_test[col].isna().sum())\n",
        "print(\"=\"*30,\"dtypes\",\"=\"*30)\n",
        "print(df_train[col].dtypes)\n",
        "print(df_test[col].dtypes)"
      ]
    },
    {
      "cell_type": "code",
      "execution_count": null,
      "metadata": {
        "id": "hR4kz7nk1FPI"
      },
      "outputs": [],
      "source": [
        "HistBox(df_train[col])\n",
        "HistBox(df_test[col])"
      ]
    },
    {
      "cell_type": "code",
      "execution_count": null,
      "metadata": {
        "id": "RK8AhOTo1FPI"
      },
      "outputs": [],
      "source": [
        "plot_series(df_train[col], df_test[col])\n",
        "plt.show()"
      ]
    },
    {
      "cell_type": "code",
      "execution_count": null,
      "metadata": {
        "id": "h1cWYfy31FPJ"
      },
      "outputs": [],
      "source": [
        "na_dates = list(set([x.strftime(\"%Y-%m-%d\") for x in df_train.index[df_train[col].isna()]]))\n",
        "na_dates.sort()\n",
        "filed = Imputer(\"ffill\").fit_transform(df_train[col])  # 予測対象美の未来のデータは使えないと想定しffill\n",
        "for date in na_dates:\n",
        "  na_index = (f\"{date} 00:00\",f\"{date} 23:00\")\n",
        "  plot_series(filed.loc[na_index[0]:na_index[1]], df_train.loc[na_index[0]:na_index[1], col])\n",
        "  plt.show()\n"
      ]
    },
    {
      "cell_type": "code",
      "execution_count": null,
      "metadata": {
        "id": "NkXlKrCN1FPJ"
      },
      "outputs": [],
      "source": [
        "df_train[col] = Imputer(\"ffill\").fit_transform(df_train[col])\n",
        "df_test[col] = Imputer(\"ffill\").fit_transform(df_test[col])"
      ]
    },
    {
      "cell_type": "code",
      "execution_count": null,
      "metadata": {
        "id": "DmHxQd5rXRlS"
      },
      "outputs": [],
      "source": [
        "number, col = disp_markdown(number)"
      ]
    },
    {
      "cell_type": "code",
      "execution_count": null,
      "metadata": {
        "id": "drNjO4KxXcwf"
      },
      "outputs": [],
      "source": [
        "print(\"=\"*30,\"value_counts\",\"=\"*30)\n",
        "display(df_train[col].value_counts(dropna=False).head())\n",
        "display(df_test[col].value_counts(dropna=False).head())\n",
        "print(\"=\"*30,\"na\",\"=\"*30)\n",
        "print(\"train:\",df_train[col].isna().sum())\n",
        "print(\"test :\",df_test[col].isna().sum())\n",
        "print(\"=\"*30,\"dtypes\",\"=\"*30)\n",
        "print(df_train[col].dtypes)\n",
        "print(df_test[col].dtypes)"
      ]
    },
    {
      "cell_type": "code",
      "execution_count": null,
      "metadata": {
        "id": "gOixE42V1Z-y"
      },
      "outputs": [],
      "source": [
        "HistBox(df_train[col])\n",
        "HistBox(df_test[col])"
      ]
    },
    {
      "cell_type": "code",
      "execution_count": null,
      "metadata": {
        "id": "4RRU82s61Z-z"
      },
      "outputs": [],
      "source": [
        "plot_series(df_train[col], df_test[col])\n",
        "plt.show()"
      ]
    },
    {
      "cell_type": "code",
      "execution_count": null,
      "metadata": {
        "id": "BmH3mR3O1Z-z"
      },
      "outputs": [],
      "source": [
        "na_dates = list(set([x.strftime(\"%Y-%m-%d\") for x in df_train.index[df_train[col].isna()]]))\n",
        "na_dates.sort()\n",
        "filed = Imputer(\"ffill\").fit_transform(df_train[col])  # 予測対象美の未来のデータは使えないと想定しffill\n",
        "for date in na_dates:\n",
        "  na_index = (f\"{date} 00:00\",f\"{date} 23:00\")\n",
        "  plot_series(filed.loc[na_index[0]:na_index[1]], df_train.loc[na_index[0]:na_index[1], col])\n",
        "  plt.show()\n"
      ]
    },
    {
      "cell_type": "code",
      "execution_count": null,
      "metadata": {
        "id": "eXZ1Pwzr1Z-0"
      },
      "outputs": [],
      "source": [
        "df_train[col] = Imputer(\"ffill\").fit_transform(df_train[col])\n",
        "df_test[col] = Imputer(\"ffill\").fit_transform(df_test[col])"
      ]
    },
    {
      "cell_type": "code",
      "execution_count": null,
      "metadata": {
        "id": "vtivgF98XfUk"
      },
      "outputs": [],
      "source": [
        "number, col = disp_markdown(number)"
      ]
    },
    {
      "cell_type": "code",
      "execution_count": null,
      "metadata": {
        "id": "9DiDf7JvYDe1"
      },
      "outputs": [],
      "source": [
        "print(\"=\"*30,\"value_counts\",\"=\"*30)\n",
        "display(df_train[col].value_counts(dropna=False).head())\n",
        "display(df_test[col].value_counts(dropna=False).head())\n",
        "print(\"=\"*30,\"na\",\"=\"*30)\n",
        "print(\"train:\",df_train[col].isna().sum())\n",
        "print(\"test :\",df_test[col].isna().sum())\n",
        "print(\"=\"*30,\"dtypes\",\"=\"*30)\n",
        "print(df_train[col].dtypes)\n",
        "print(df_test[col].dtypes)"
      ]
    },
    {
      "cell_type": "code",
      "execution_count": null,
      "metadata": {
        "id": "Nkt5Yw1h1gnW"
      },
      "outputs": [],
      "source": [
        "HistBox(df_train[col])\n",
        "HistBox(df_test[col])"
      ]
    },
    {
      "cell_type": "code",
      "execution_count": null,
      "metadata": {
        "id": "cEis61o11gnW"
      },
      "outputs": [],
      "source": [
        "plot_series(df_train[col], df_test[col])\n",
        "plt.show()"
      ]
    },
    {
      "cell_type": "code",
      "execution_count": null,
      "metadata": {
        "id": "C9HwRlH91gnX"
      },
      "outputs": [],
      "source": [
        "na_dates = list(set([x.strftime(\"%Y-%m-%d\") for x in df_train.index[df_train[col].isna()]]))\n",
        "na_dates.sort()\n",
        "filed = Imputer(\"ffill\").fit_transform(df_train[col])  # 予測対象美の未来のデータは使えないと想定しffill\n",
        "for date in na_dates:\n",
        "  na_index = (f\"{date} 00:00\",f\"{date} 23:00\")\n",
        "  plot_series(filed.loc[na_index[0]:na_index[1]], df_train.loc[na_index[0]:na_index[1], col])\n",
        "  plt.show()\n"
      ]
    },
    {
      "cell_type": "code",
      "execution_count": null,
      "metadata": {
        "id": "jXKpLLek1gnX"
      },
      "outputs": [],
      "source": [
        "df_train[col] = Imputer(\"ffill\").fit_transform(df_train[col])\n",
        "df_test[col] = Imputer(\"ffill\").fit_transform(df_test[col])"
      ]
    },
    {
      "cell_type": "code",
      "execution_count": null,
      "metadata": {
        "id": "3LG32sUhdMFF"
      },
      "outputs": [],
      "source": [
        "number, col = disp_markdown(number)"
      ]
    },
    {
      "cell_type": "code",
      "execution_count": null,
      "metadata": {
        "id": "gw5AXBIsdO9d"
      },
      "outputs": [],
      "source": [
        "print(\"=\"*30,\"value_counts\",\"=\"*30)\n",
        "display(df_train[col].value_counts(dropna=False).head())\n",
        "display(df_test[col].value_counts(dropna=False).head())\n",
        "print(\"=\"*30,\"na\",\"=\"*30)\n",
        "print(\"train:\",df_train[col].isna().sum())\n",
        "print(\"test :\",df_test[col].isna().sum())\n",
        "print(\"=\"*30,\"dtypes\",\"=\"*30)\n",
        "print(df_train[col].dtypes)\n",
        "print(df_test[col].dtypes)"
      ]
    },
    {
      "cell_type": "code",
      "execution_count": null,
      "metadata": {
        "id": "wywGT5_O1rXn"
      },
      "outputs": [],
      "source": [
        "HistBox(df_train[col])\n",
        "HistBox(df_test[col])"
      ]
    },
    {
      "cell_type": "code",
      "execution_count": null,
      "metadata": {
        "id": "ysx8lEzD1rXo"
      },
      "outputs": [],
      "source": [
        "plot_series(df_train[col], df_test[col])\n",
        "plt.show()"
      ]
    },
    {
      "cell_type": "code",
      "execution_count": null,
      "metadata": {
        "id": "-Eszgl8-1rXo"
      },
      "outputs": [],
      "source": [
        "na_dates = list(set([x.strftime(\"%Y-%m-%d\") for x in df_train.index[df_train[col].isna()]]))\n",
        "na_dates.sort()\n",
        "filed = Imputer(\"ffill\").fit_transform(df_train[col])  # 予測対象美の未来のデータは使えないと想定しffill\n",
        "for date in na_dates:\n",
        "  na_index = (f\"{date} 00:00\",f\"{date} 23:00\")\n",
        "  plot_series(filed.loc[na_index[0]:na_index[1]], df_train.loc[na_index[0]:na_index[1], col])\n",
        "  plt.show()\n"
      ]
    },
    {
      "cell_type": "code",
      "execution_count": null,
      "metadata": {
        "id": "2SXE8l8B1rXp"
      },
      "outputs": [],
      "source": [
        "df_train[col] = Imputer(\"ffill\").fit_transform(df_train[col])\n",
        "df_test[col] = Imputer(\"ffill\").fit_transform(df_test[col])"
      ]
    },
    {
      "cell_type": "code",
      "execution_count": null,
      "metadata": {
        "id": "KCV9wq-ddYN6"
      },
      "outputs": [],
      "source": [
        "number, col = disp_markdown(number)"
      ]
    },
    {
      "cell_type": "code",
      "execution_count": null,
      "metadata": {
        "id": "qKPHn46HdRKs"
      },
      "outputs": [],
      "source": [
        "print(\"=\"*30,\"value_counts\",\"=\"*30)\n",
        "display(df_train[col].value_counts(dropna=False).head())\n",
        "display(df_test[col].value_counts(dropna=False).head())\n",
        "print(\"=\"*30,\"na\",\"=\"*30)\n",
        "print(\"train:\",df_train[col].isna().sum())\n",
        "print(\"test :\",df_test[col].isna().sum())\n",
        "print(\"=\"*30,\"dtypes\",\"=\"*30)\n",
        "print(df_train[col].dtypes)\n",
        "print(df_test[col].dtypes)"
      ]
    },
    {
      "cell_type": "code",
      "execution_count": null,
      "metadata": {
        "id": "ML4cR_gL1ypq"
      },
      "outputs": [],
      "source": [
        "HistBox(df_train[col])\n",
        "HistBox(df_test[col])"
      ]
    },
    {
      "cell_type": "code",
      "execution_count": null,
      "metadata": {
        "id": "W_0hilAG1ypr"
      },
      "outputs": [],
      "source": [
        "plot_series(df_train[col], df_test[col])\n",
        "plt.show()"
      ]
    },
    {
      "cell_type": "code",
      "execution_count": null,
      "metadata": {
        "id": "-mDumua91ypr"
      },
      "outputs": [],
      "source": [
        "na_dates = list(set([x.strftime(\"%Y-%m-%d\") for x in df_train.index[df_train[col].isna()]]))\n",
        "na_dates.sort()\n",
        "filed = Imputer(\"ffill\").fit_transform(df_train[col])  # 予測対象美の未来のデータは使えないと想定しffill\n",
        "for date in na_dates:\n",
        "  na_index = (f\"{date} 00:00\",f\"{date} 23:00\")\n",
        "  plot_series(filed.loc[na_index[0]:na_index[1]], df_train.loc[na_index[0]:na_index[1], col])\n",
        "  plt.show()\n"
      ]
    },
    {
      "cell_type": "code",
      "execution_count": null,
      "metadata": {
        "id": "giNzYH771ypr"
      },
      "outputs": [],
      "source": [
        "df_train[col] = Imputer(\"ffill\").fit_transform(df_train[col])\n",
        "df_test[col] = Imputer(\"ffill\").fit_transform(df_test[col])"
      ]
    },
    {
      "cell_type": "code",
      "execution_count": null,
      "metadata": {
        "id": "REFJPZm0d2vm"
      },
      "outputs": [],
      "source": [
        "number, col = disp_markdown(number)"
      ]
    },
    {
      "cell_type": "code",
      "execution_count": null,
      "metadata": {
        "id": "eHsm5Phqe0EU"
      },
      "outputs": [],
      "source": [
        "print(\"=\"*30,\"value_counts\",\"=\"*30)\n",
        "display(df_train[col].value_counts(dropna=False).head())\n",
        "display(df_test[col].value_counts(dropna=False).head())\n",
        "print(\"=\"*30,\"na\",\"=\"*30)\n",
        "print(\"train:\",df_train[col].isna().sum())\n",
        "print(\"test :\",df_test[col].isna().sum())\n",
        "print(\"=\"*30,\"dtypes\",\"=\"*30)\n",
        "print(df_train[col].dtypes)\n",
        "print(df_test[col].dtypes)"
      ]
    },
    {
      "cell_type": "code",
      "execution_count": null,
      "metadata": {
        "id": "moQfekJr152l"
      },
      "outputs": [],
      "source": [
        "HistBox(df_train[col])\n",
        "HistBox(df_test[col])"
      ]
    },
    {
      "cell_type": "code",
      "execution_count": null,
      "metadata": {
        "id": "7dWilLIS152m"
      },
      "outputs": [],
      "source": [
        "plot_series(df_train[col], df_test[col])\n",
        "plt.show()"
      ]
    },
    {
      "cell_type": "code",
      "execution_count": null,
      "metadata": {
        "id": "-wlDXuzd152m"
      },
      "outputs": [],
      "source": [
        "na_dates = list(set([x.strftime(\"%Y-%m-%d\") for x in df_train.index[df_train[col].isna()]]))\n",
        "na_dates.sort()\n",
        "filed = Imputer(\"ffill\").fit_transform(df_train[col])  # 予測対象美の未来のデータは使えないと想定しffill\n",
        "for date in na_dates:\n",
        "  na_index = (f\"{date} 00:00\",f\"{date} 23:00\")\n",
        "  plot_series(filed.loc[na_index[0]:na_index[1]], df_train.loc[na_index[0]:na_index[1], col])\n",
        "  plt.show()\n"
      ]
    },
    {
      "cell_type": "code",
      "execution_count": null,
      "metadata": {
        "id": "yKtegSFW152n"
      },
      "outputs": [],
      "source": [
        "df_train[col] = Imputer(\"ffill\").fit_transform(df_train[col])\n",
        "df_test[col] = Imputer(\"ffill\").fit_transform(df_test[col])"
      ]
    },
    {
      "cell_type": "code",
      "execution_count": null,
      "metadata": {
        "id": "3mTaG_2ELL6V"
      },
      "outputs": [],
      "source": [
        "number, col = disp_markdown(number)"
      ]
    },
    {
      "cell_type": "code",
      "execution_count": null,
      "metadata": {
        "id": "vRmjkM_XLL6W"
      },
      "outputs": [],
      "source": [
        "print(\"=\"*30,\"value_counts\",\"=\"*30)\n",
        "display(df_train[col].value_counts(dropna=False).head())\n",
        "display(df_test[col].value_counts(dropna=False).head())\n",
        "print(\"=\"*30,\"na\",\"=\"*30)\n",
        "print(\"train:\",df_train[col].isna().sum())\n",
        "print(\"test :\",df_test[col].isna().sum())\n",
        "print(\"=\"*30,\"dtypes\",\"=\"*30)\n",
        "print(df_train[col].dtypes)\n",
        "print(df_test[col].dtypes)"
      ]
    },
    {
      "cell_type": "code",
      "execution_count": null,
      "metadata": {
        "id": "L5bs9jXk2Awu"
      },
      "outputs": [],
      "source": [
        "HistBox(df_train[col])\n",
        "HistBox(df_test[col])"
      ]
    },
    {
      "cell_type": "code",
      "execution_count": null,
      "metadata": {
        "id": "rKHYgNH02Awv"
      },
      "outputs": [],
      "source": [
        "plot_series(df_train[col], df_test[col])\n",
        "plt.show()"
      ]
    },
    {
      "cell_type": "code",
      "execution_count": null,
      "metadata": {
        "id": "PnztIhR82Awv"
      },
      "outputs": [],
      "source": [
        "na_dates = list(set([x.strftime(\"%Y-%m-%d\") for x in df_train.index[df_train[col].isna()]]))\n",
        "na_dates.sort()\n",
        "filed = Imputer(\"ffill\").fit_transform(df_train[col])  # 予測対象美の未来のデータは使えないと想定しffill\n",
        "for date in na_dates:\n",
        "  na_index = (f\"{date} 00:00\",f\"{date} 23:00\")\n",
        "  plot_series(filed.loc[na_index[0]:na_index[1]], df_train.loc[na_index[0]:na_index[1], col])\n",
        "  plt.show()\n"
      ]
    },
    {
      "cell_type": "code",
      "execution_count": null,
      "metadata": {
        "id": "vr9gvHZy2Awv"
      },
      "outputs": [],
      "source": [
        "df_train[col] = Imputer(\"ffill\").fit_transform(df_train[col])\n",
        "df_test[col] = Imputer(\"ffill\").fit_transform(df_test[col])"
      ]
    },
    {
      "cell_type": "code",
      "execution_count": null,
      "metadata": {
        "id": "-zCbp_X2LL6W"
      },
      "outputs": [],
      "source": [
        "number, col = disp_markdown(number)"
      ]
    },
    {
      "cell_type": "code",
      "execution_count": null,
      "metadata": {
        "id": "D9jPAdUXMjya"
      },
      "outputs": [],
      "source": [
        "print(\"=\"*30,\"value_counts\",\"=\"*30)\n",
        "display(df_train[col].value_counts(dropna=False).head())\n",
        "display(df_test[col].value_counts(dropna=False).head())\n",
        "print(\"=\"*30,\"na\",\"=\"*30)\n",
        "print(\"train:\",df_train[col].isna().sum())\n",
        "print(\"test :\",df_test[col].isna().sum())\n",
        "print(\"=\"*30,\"dtypes\",\"=\"*30)\n",
        "print(df_train[col].dtypes)\n",
        "print(df_test[col].dtypes)"
      ]
    },
    {
      "cell_type": "code",
      "execution_count": null,
      "metadata": {
        "id": "eP2Jm_6h2Jwj"
      },
      "outputs": [],
      "source": [
        "HistBox(df_train[col])\n",
        "HistBox(df_test[col])"
      ]
    },
    {
      "cell_type": "code",
      "execution_count": null,
      "metadata": {
        "id": "EskbRIKI2Jwj"
      },
      "outputs": [],
      "source": [
        "plot_series(df_train[col], df_test[col])\n",
        "plt.show()"
      ]
    },
    {
      "cell_type": "code",
      "execution_count": null,
      "metadata": {
        "id": "wDwVSkB62Jwk"
      },
      "outputs": [],
      "source": [
        "na_dates = list(set([x.strftime(\"%Y-%m-%d\") for x in df_train.index[df_train[col].isna()]]))\n",
        "na_dates.sort()\n",
        "filed = Imputer(\"ffill\").fit_transform(df_train[col])  # 予測対象美の未来のデータは使えないと想定しffill\n",
        "for date in na_dates:\n",
        "  na_index = (f\"{date} 00:00\",f\"{date} 23:00\")\n",
        "  plot_series(filed.loc[na_index[0]:na_index[1]], df_train.loc[na_index[0]:na_index[1], col])\n",
        "  plt.show()\n"
      ]
    },
    {
      "cell_type": "code",
      "execution_count": null,
      "metadata": {
        "id": "cRYy86ff2Jwk"
      },
      "outputs": [],
      "source": [
        "df_train[col] = Imputer(\"ffill\").fit_transform(df_train[col])\n",
        "df_test[col] = Imputer(\"ffill\").fit_transform(df_test[col])"
      ]
    },
    {
      "cell_type": "code",
      "execution_count": null,
      "metadata": {
        "id": "o9ev_L67fGRj"
      },
      "outputs": [],
      "source": [
        "number, col = disp_markdown(number)"
      ]
    },
    {
      "cell_type": "code",
      "execution_count": null,
      "metadata": {
        "id": "DUN7zSkEfC-W"
      },
      "outputs": [],
      "source": [
        "print(\"=\"*30,\"value_counts\",\"=\"*30)\n",
        "display(df_train[col].value_counts(dropna=False).head())\n",
        "display(df_test[col].value_counts(dropna=False).head())\n",
        "print(\"=\"*30,\"na\",\"=\"*30)\n",
        "print(\"train:\",df_train[col].isna().sum())\n",
        "print(\"test :\",df_test[col].isna().sum())\n",
        "print(\"=\"*30,\"dtypes\",\"=\"*30)\n",
        "print(df_train[col].dtypes)\n",
        "print(df_test[col].dtypes)"
      ]
    },
    {
      "cell_type": "code",
      "execution_count": null,
      "metadata": {
        "id": "lpS8BCM22R58"
      },
      "outputs": [],
      "source": [
        "HistBox(df_train[col])\n",
        "HistBox(df_test[col])"
      ]
    },
    {
      "cell_type": "code",
      "execution_count": null,
      "metadata": {
        "id": "UW8Jj_Ee2R59"
      },
      "outputs": [],
      "source": [
        "plot_series(df_train[col], df_test[col])\n",
        "plt.show()"
      ]
    },
    {
      "cell_type": "code",
      "execution_count": null,
      "metadata": {
        "id": "HIiKYSlU2R5-"
      },
      "outputs": [],
      "source": [
        "na_dates = list(set([x.strftime(\"%Y-%m-%d\") for x in df_train.index[df_train[col].isna()]]))\n",
        "na_dates.sort()\n",
        "filed = Imputer(\"ffill\").fit_transform(df_train[col])  # 予測対象美の未来のデータは使えないと想定しffill\n",
        "for date in na_dates:\n",
        "  na_index = (f\"{date} 00:00\",f\"{date} 23:00\")\n",
        "  plot_series(filed.loc[na_index[0]:na_index[1]], df_train.loc[na_index[0]:na_index[1], col])\n",
        "  plt.show()\n"
      ]
    },
    {
      "cell_type": "code",
      "execution_count": null,
      "metadata": {
        "id": "fvI_qb_j2R5-"
      },
      "outputs": [],
      "source": [
        "df_train[col] = Imputer(\"ffill\").fit_transform(df_train[col])\n",
        "df_test[col] = Imputer(\"ffill\").fit_transform(df_test[col])"
      ]
    },
    {
      "cell_type": "code",
      "execution_count": null,
      "metadata": {
        "id": "5sdNO2RGfPEB"
      },
      "outputs": [],
      "source": [
        "number, col = disp_markdown(number)"
      ]
    },
    {
      "cell_type": "code",
      "execution_count": null,
      "metadata": {
        "id": "8j_jfiYufPEB"
      },
      "outputs": [],
      "source": [
        "print(\"=\"*30,\"value_counts\",\"=\"*30)\n",
        "display(df_train[col].value_counts(dropna=False).head())\n",
        "display(df_test[col].value_counts(dropna=False).head())\n",
        "print(\"=\"*30,\"na\",\"=\"*30)\n",
        "print(\"train:\",df_train[col].isna().sum())\n",
        "print(\"test :\",df_test[col].isna().sum())\n",
        "print(\"=\"*30,\"dtypes\",\"=\"*30)\n",
        "print(df_train[col].dtypes)\n",
        "print(df_test[col].dtypes)"
      ]
    },
    {
      "cell_type": "code",
      "execution_count": null,
      "metadata": {
        "id": "oP73E_0D26oj"
      },
      "outputs": [],
      "source": [
        "HistBox(df_train[col])\n",
        "HistBox(df_test[col])"
      ]
    },
    {
      "cell_type": "code",
      "execution_count": null,
      "metadata": {
        "id": "IcEbkiOZ26ok"
      },
      "outputs": [],
      "source": [
        "plot_series(df_train[col], df_test[col])\n",
        "plt.show()"
      ]
    },
    {
      "cell_type": "code",
      "execution_count": null,
      "metadata": {
        "id": "3i8GI2qH26ol"
      },
      "outputs": [],
      "source": [
        "na_dates = list(set([x.strftime(\"%Y-%m-%d\") for x in df_train.index[df_train[col].isna()]]))\n",
        "na_dates.sort()\n",
        "filed = Imputer(\"ffill\").fit_transform(df_train[col])  # 予測対象美の未来のデータは使えないと想定しffill\n",
        "for date in na_dates:\n",
        "  na_index = (f\"{date} 00:00\",f\"{date} 23:00\")\n",
        "  plot_series(filed.loc[na_index[0]:na_index[1]], df_train.loc[na_index[0]:na_index[1], col])\n",
        "  plt.show()\n"
      ]
    },
    {
      "cell_type": "code",
      "execution_count": null,
      "metadata": {
        "id": "iYL8BWsb26ol"
      },
      "outputs": [],
      "source": [
        "df_train[col] = Imputer(\"ffill\").fit_transform(df_train[col])\n",
        "df_test[col] = Imputer(\"ffill\").fit_transform(df_test[col])"
      ]
    },
    {
      "cell_type": "code",
      "execution_count": null,
      "metadata": {
        "id": "NvTB4sMLgGbd"
      },
      "outputs": [],
      "source": [
        "number, col = disp_markdown(number)"
      ]
    },
    {
      "cell_type": "code",
      "execution_count": null,
      "metadata": {
        "id": "oovRUIzVgGbe"
      },
      "outputs": [],
      "source": [
        "print(\"=\"*30,\"value_counts\",\"=\"*30)\n",
        "display(df_train[col].value_counts(dropna=False).head())\n",
        "display(df_test[col].value_counts(dropna=False).head())\n",
        "print(\"=\"*30,\"na\",\"=\"*30)\n",
        "print(\"train:\",df_train[col].isna().sum())\n",
        "print(\"test :\",df_test[col].isna().sum())\n",
        "print(\"=\"*30,\"dtypes\",\"=\"*30)\n",
        "print(df_train[col].dtypes)\n",
        "print(df_test[col].dtypes)"
      ]
    },
    {
      "cell_type": "code",
      "execution_count": null,
      "metadata": {
        "id": "VENBThS43Foi"
      },
      "outputs": [],
      "source": [
        "HistBox(df_train[col])\n",
        "HistBox(df_test[col])"
      ]
    },
    {
      "cell_type": "code",
      "execution_count": null,
      "metadata": {
        "id": "ktyHlKSe3Foj"
      },
      "outputs": [],
      "source": [
        "plot_series(df_train[col], df_test[col])\n",
        "plt.show()"
      ]
    },
    {
      "cell_type": "code",
      "execution_count": null,
      "metadata": {
        "id": "xXKckzCS3Foj"
      },
      "outputs": [],
      "source": [
        "na_dates = list(set([x.strftime(\"%Y-%m-%d\") for x in df_train.index[df_train[col].isna()]]))\n",
        "na_dates.sort()\n",
        "filed = Imputer(\"ffill\").fit_transform(df_train[col])  # 予測対象美の未来のデータは使えないと想定しffill\n",
        "for date in na_dates:\n",
        "  na_index = (f\"{date} 00:00\",f\"{date} 23:00\")\n",
        "  plot_series(filed.loc[na_index[0]:na_index[1]], df_train.loc[na_index[0]:na_index[1], col])\n",
        "  plt.show()\n"
      ]
    },
    {
      "cell_type": "code",
      "execution_count": null,
      "metadata": {
        "id": "iq6p3d0q3Foj"
      },
      "outputs": [],
      "source": [
        "df_train[col] = Imputer(\"ffill\").fit_transform(df_train[col])\n",
        "df_test[col] = Imputer(\"ffill\").fit_transform(df_test[col])"
      ]
    },
    {
      "cell_type": "code",
      "execution_count": null,
      "metadata": {
        "id": "-2-Hi4QVgTcO"
      },
      "outputs": [],
      "source": [
        "number, col = disp_markdown(number)"
      ]
    },
    {
      "cell_type": "code",
      "execution_count": null,
      "metadata": {
        "id": "bn8OiBsugTcP"
      },
      "outputs": [],
      "source": [
        "print(\"=\"*30,\"value_counts\",\"=\"*30)\n",
        "display(df_train[col].value_counts(dropna=False).head())\n",
        "display(df_test[col].value_counts(dropna=False).head())\n",
        "print(\"=\"*30,\"na\",\"=\"*30)\n",
        "print(\"train:\",df_train[col].isna().sum())\n",
        "print(\"test :\",df_test[col].isna().sum())\n",
        "print(\"=\"*30,\"dtypes\",\"=\"*30)\n",
        "print(df_train[col].dtypes)\n",
        "print(df_test[col].dtypes)"
      ]
    },
    {
      "cell_type": "code",
      "execution_count": null,
      "metadata": {
        "id": "hCji48Y85APL"
      },
      "outputs": [],
      "source": [
        "HistBox(df_train[col])\n",
        "HistBox(df_test[col])"
      ]
    },
    {
      "cell_type": "code",
      "execution_count": null,
      "metadata": {
        "id": "7PuMuqmd5APM"
      },
      "outputs": [],
      "source": [
        "plot_series(df_train[col], df_test[col])\n",
        "plt.show()"
      ]
    },
    {
      "cell_type": "code",
      "execution_count": null,
      "metadata": {
        "id": "46yPF_lu5APN"
      },
      "outputs": [],
      "source": [
        "na_dates = list(set([x.strftime(\"%Y-%m-%d\") for x in df_train.index[df_train[col].isna()]]))\n",
        "na_dates.sort()\n",
        "filed = Imputer(\"ffill\").fit_transform(df_train[col])  # 予測対象美の未来のデータは使えないと想定しffill\n",
        "for date in na_dates:\n",
        "  na_index = (f\"{date} 00:00\",f\"{date} 23:00\")\n",
        "  plot_series(filed.loc[na_index[0]:na_index[1]], df_train.loc[na_index[0]:na_index[1], col])\n",
        "  plt.show()\n"
      ]
    },
    {
      "cell_type": "code",
      "execution_count": null,
      "metadata": {
        "id": "Xrggphn_5APN"
      },
      "outputs": [],
      "source": [
        "df_train[col] = Imputer(\"ffill\").fit_transform(df_train[col])\n",
        "df_test[col] = Imputer(\"ffill\").fit_transform(df_test[col])"
      ]
    },
    {
      "cell_type": "code",
      "execution_count": null,
      "metadata": {
        "id": "lf4i22us4bbe"
      },
      "outputs": [],
      "source": [
        "plot_series(df_train.filter(regex=\"^gene\").sum(axis=1), df_train[col]), np.corrcoef(df_train.filter(regex=\"^gene\").sum(axis=1), df_train[col])"
      ]
    },
    {
      "cell_type": "code",
      "execution_count": null,
      "metadata": {
        "id": "oxpI9hSzgban"
      },
      "outputs": [],
      "source": [
        "number, col = disp_markdown(number)"
      ]
    },
    {
      "cell_type": "code",
      "execution_count": null,
      "metadata": {
        "id": "FEn_bx1t_Kg6"
      },
      "outputs": [],
      "source": [
        "assert col.endswith(\"temp\")\n",
        "area = col.split(\"_\")[0]"
      ]
    },
    {
      "cell_type": "code",
      "execution_count": null,
      "metadata": {
        "id": "81IQAb4Dgbao"
      },
      "outputs": [],
      "source": [
        "print(\"=\"*30,\"value_counts\",\"=\"*30)\n",
        "display(df_train[col].value_counts(dropna=False).head())\n",
        "display(df_test[col].value_counts(dropna=False).head())\n",
        "print(\"=\"*30,\"na\",\"=\"*30)\n",
        "print(\"train:\",df_train[col].isna().sum())\n",
        "print(\"test :\",df_test[col].isna().sum())\n",
        "print(\"=\"*30,\"dtypes\",\"=\"*30)\n",
        "print(df_train[col].dtypes)\n",
        "print(df_test[col].dtypes)"
      ]
    },
    {
      "cell_type": "code",
      "execution_count": null,
      "metadata": {
        "id": "nIcLLWgYgecX"
      },
      "outputs": [],
      "source": [
        "number, col = disp_markdown(number)"
      ]
    },
    {
      "cell_type": "code",
      "execution_count": null,
      "metadata": {
        "id": "RDAd_oPwgecY"
      },
      "outputs": [],
      "source": [
        "print(\"=\"*30,\"value_counts\",\"=\"*30)\n",
        "display(df_train[col].value_counts(dropna=False).head())\n",
        "display(df_test[col].value_counts(dropna=False).head())\n",
        "print(\"=\"*30,\"na\",\"=\"*30)\n",
        "print(\"train:\",df_train[col].isna().sum())\n",
        "print(\"test :\",df_test[col].isna().sum())\n",
        "print(\"=\"*30,\"dtypes\",\"=\"*30)\n",
        "print(df_train[col].dtypes)\n",
        "print(df_test[col].dtypes)"
      ]
    },
    {
      "cell_type": "code",
      "execution_count": null,
      "metadata": {
        "id": "qr8-MeKonCLl"
      },
      "outputs": [],
      "source": [
        "number, col = disp_markdown(number)"
      ]
    },
    {
      "cell_type": "code",
      "execution_count": null,
      "metadata": {
        "id": "TM4qEbvCroTf"
      },
      "outputs": [],
      "source": [
        "print(\"=\"*30,\"value_counts\",\"=\"*30)\n",
        "display(df_train[col].value_counts(dropna=False).head())\n",
        "display(df_test[col].value_counts(dropna=False).head())\n",
        "print(\"=\"*30,\"na\",\"=\"*30)\n",
        "print(\"train:\",df_train[col].isna().sum())\n",
        "print(\"test :\",df_test[col].isna().sum())\n",
        "print(\"=\"*30,\"dtypes\",\"=\"*30)\n",
        "print(df_train[col].dtypes)\n",
        "print(df_test[col].dtypes)"
      ]
    },
    {
      "cell_type": "code",
      "execution_count": null,
      "metadata": {
        "id": "lRR8f2ayrrIK"
      },
      "outputs": [],
      "source": [
        "HistBox(df_train[col])\n",
        "HistBox(df_test[col])"
      ]
    },
    {
      "cell_type": "code",
      "execution_count": null,
      "metadata": {
        "id": "psR3Ckp35lYR"
      },
      "outputs": [],
      "source": [
        "area_temp_train = df_train.filter(regex=f\"^{area}_temp\")\n",
        "area_temp_test = df_test.filter(regex=f\"^{area}_temp\")\n",
        "fig, ax = plt.subplots(figsize=(15, 5))\n",
        "for col in area_temp_train.columns:\n",
        "  ax.plot(area_temp_train.index.to_timestamp(), area_temp_train[col], alpha=0.3, label=col)\n",
        "fig.legend()\n",
        "plt.show()\n",
        "fig, ax = plt.subplots(figsize=(15, 5))\n",
        "for col in area_temp_test.columns:\n",
        "  ax.plot(area_temp_test.index.to_timestamp(), area_temp_test[col], alpha=0.3, label=col)\n",
        "fig.legend()\n",
        "plt.show()"
      ]
    },
    {
      "cell_type": "code",
      "execution_count": null,
      "metadata": {
        "id": "M83zSpXIsIPD"
      },
      "outputs": [],
      "source": [
        "number, col = disp_markdown(number)"
      ]
    },
    {
      "cell_type": "code",
      "execution_count": null,
      "metadata": {
        "id": "y6VXSdNJsIPE"
      },
      "outputs": [],
      "source": [
        "print(\"=\"*30,\"value_counts\",\"=\"*30)\n",
        "display(df_train[col].value_counts(dropna=False).head())\n",
        "display(df_test[col].value_counts(dropna=False).head())\n",
        "print(\"=\"*30,\"na\",\"=\"*30)\n",
        "print(\"train:\",df_train[col].isna().sum())\n",
        "print(\"test :\",df_test[col].isna().sum())\n",
        "print(\"=\"*30,\"dtypes\",\"=\"*30)\n",
        "print(df_train[col].dtypes)\n",
        "print(df_test[col].dtypes)"
      ]
    },
    {
      "cell_type": "code",
      "execution_count": null,
      "metadata": {
        "id": "2EV_7yGUsOP6"
      },
      "outputs": [],
      "source": [
        "HistBox(df_train[col])\n",
        "HistBox(df_test[col])"
      ]
    },
    {
      "cell_type": "code",
      "execution_count": null,
      "metadata": {
        "id": "tp5FJazMsRM3"
      },
      "outputs": [],
      "source": [
        "number, col = disp_markdown(number)"
      ]
    },
    {
      "cell_type": "code",
      "execution_count": null,
      "metadata": {
        "id": "5Ib3W1HFsRM4"
      },
      "outputs": [],
      "source": [
        "print(\"=\"*30,\"value_counts\",\"=\"*30)\n",
        "display(df_train[col].value_counts(dropna=False).head())\n",
        "display(df_test[col].value_counts(dropna=False).head())\n",
        "print(\"=\"*30,\"na\",\"=\"*30)\n",
        "print(\"train:\",df_train[col].isna().sum())\n",
        "print(\"test :\",df_test[col].isna().sum())\n",
        "print(\"=\"*30,\"dtypes\",\"=\"*30)\n",
        "print(df_train[col].dtypes)\n",
        "print(df_test[col].dtypes)"
      ]
    },
    {
      "cell_type": "code",
      "execution_count": null,
      "metadata": {
        "id": "LqzP3aEW7aen"
      },
      "outputs": [],
      "source": [
        "HistBox(df_train[col])\n",
        "HistBox(df_test[col])"
      ]
    },
    {
      "cell_type": "code",
      "execution_count": null,
      "metadata": {
        "id": "aX51OzRxIxE9"
      },
      "outputs": [],
      "source": []
    },
    {
      "cell_type": "code",
      "execution_count": null,
      "metadata": {
        "id": "XDStmIYB7dgk"
      },
      "outputs": [],
      "source": [
        "temp_col = f\"{area}_temp\"\n",
        "df_train.insert(df_train.columns.get_loc(col)+1, col + \"_absolute\", compute_absolute_humidity(df_train, temp_col, col))\n",
        "df_test.insert(df_test.columns.get_loc(col)+1, col + \"_absolute\", compute_absolute_humidity(df_test, temp_col, col))"
      ]
    },
    {
      "cell_type": "code",
      "execution_count": null,
      "metadata": {
        "id": "OptaHyxAsfAL"
      },
      "outputs": [],
      "source": [
        "number, col = disp_markdown(number)"
      ]
    },
    {
      "cell_type": "code",
      "execution_count": null,
      "metadata": {
        "id": "gO9jlajasfAM"
      },
      "outputs": [],
      "source": [
        "print(\"=\"*30,\"value_counts\",\"=\"*30)\n",
        "display(df_train[col].value_counts(dropna=False).head())\n",
        "display(df_test[col].value_counts(dropna=False).head())\n",
        "print(\"=\"*30,\"na\",\"=\"*30)\n",
        "print(\"train:\",df_train[col].isna().sum())\n",
        "print(\"test :\",df_test[col].isna().sum())\n",
        "print(\"=\"*30,\"dtypes\",\"=\"*30)\n",
        "print(df_train[col].dtypes)\n",
        "print(df_test[col].dtypes)"
      ]
    },
    {
      "cell_type": "code",
      "execution_count": null,
      "metadata": {
        "id": "E1S21yrfzZ7-"
      },
      "outputs": [],
      "source": [
        "HistBox(df_train[col])\n",
        "HistBox(df_test[col])"
      ]
    },
    {
      "cell_type": "code",
      "execution_count": null,
      "metadata": {
        "id": "86DiyE-S7-aV"
      },
      "outputs": [],
      "source": [
        "plot_series(df_train[col], df_test[col])\n",
        "plt.show()"
      ]
    },
    {
      "cell_type": "code",
      "execution_count": null,
      "metadata": {
        "id": "ySWFmytw78MN"
      },
      "outputs": [],
      "source": [
        "number, col = disp_markdown(number)"
      ]
    },
    {
      "cell_type": "code",
      "execution_count": null,
      "metadata": {
        "id": "lH5o983J78MO"
      },
      "outputs": [],
      "source": [
        "print(\"=\"*30,\"value_counts\",\"=\"*30)\n",
        "display(df_train[col].value_counts(dropna=False).head())\n",
        "display(df_test[col].value_counts(dropna=False).head())\n",
        "print(\"=\"*30,\"na\",\"=\"*30)\n",
        "print(\"train:\",df_train[col].isna().sum())\n",
        "print(\"test :\",df_test[col].isna().sum())\n",
        "print(\"=\"*30,\"dtypes\",\"=\"*30)\n",
        "print(df_train[col].dtypes)\n",
        "print(df_test[col].dtypes)"
      ]
    },
    {
      "cell_type": "code",
      "execution_count": null,
      "metadata": {
        "id": "95kdja1C78MO"
      },
      "outputs": [],
      "source": [
        "HistBox(df_train[col])\n",
        "HistBox(df_test[col])"
      ]
    },
    {
      "cell_type": "code",
      "execution_count": null,
      "metadata": {
        "id": "9bYQzBSU9OHw"
      },
      "outputs": [],
      "source": [
        "# 角度をサインに変換する\n",
        "sin_train = np.sin(df_train[col] / 360 * 2 *np.pi)\n",
        "sin_test = np.sin(df_test[col] / 360 * 2 *np.pi)"
      ]
    },
    {
      "cell_type": "code",
      "execution_count": null,
      "metadata": {
        "id": "10ZGI2ZD9wsm"
      },
      "outputs": [],
      "source": [
        "HistBox(sin_train)\n",
        "HistBox(sin_test)"
      ]
    },
    {
      "cell_type": "code",
      "execution_count": null,
      "metadata": {
        "id": "dtE3MMSh8Cr6"
      },
      "outputs": [],
      "source": [
        "plot_series(sin_train, sin_test)\n",
        "plt.show()"
      ]
    },
    {
      "cell_type": "code",
      "execution_count": null,
      "metadata": {
        "id": "8FlSGu1U8Eml"
      },
      "outputs": [],
      "source": [
        "df_train[col] = sin_train\n",
        "df_test[col] = sin_test\n",
        "df_train.rename(columns={col:\"sin_\"+col}, inplace=True)\n",
        "df_test.rename(columns={col:\"sin_\"+col}, inplace=True)"
      ]
    },
    {
      "cell_type": "code",
      "execution_count": null,
      "metadata": {
        "id": "z6K8CDgy-SjW"
      },
      "outputs": [],
      "source": [
        "number, col = disp_markdown(number)"
      ]
    },
    {
      "cell_type": "code",
      "execution_count": null,
      "metadata": {
        "id": "F_B4vk9l-SjX"
      },
      "outputs": [],
      "source": [
        "print(\"=\"*30,\"value_counts\",\"=\"*30)\n",
        "display(df_train[col].value_counts(dropna=False).head())\n",
        "display(df_test[col].value_counts(dropna=False).head())\n",
        "print(\"=\"*30,\"na\",\"=\"*30)\n",
        "print(\"train:\",df_train[col].isna().sum())\n",
        "print(\"test :\",df_test[col].isna().sum())\n",
        "print(\"=\"*30,\"dtypes\",\"=\"*30)\n",
        "print(df_train[col].dtypes)\n",
        "print(df_test[col].dtypes)"
      ]
    },
    {
      "cell_type": "code",
      "execution_count": null,
      "metadata": {
        "id": "11P4opqI-SjX"
      },
      "outputs": [],
      "source": [
        "HistBox(df_train[col])\n",
        "HistBox(df_test[col])"
      ]
    },
    {
      "cell_type": "code",
      "execution_count": null,
      "metadata": {
        "id": "mWzwTvWH-SjY"
      },
      "outputs": [],
      "source": [
        "plot_series(df_train[col], df_test[col])\n",
        "plt.show()"
      ]
    },
    {
      "cell_type": "code",
      "execution_count": null,
      "metadata": {
        "id": "KK99iksu-aVg"
      },
      "outputs": [],
      "source": [
        "number, col = disp_markdown(number)"
      ]
    },
    {
      "cell_type": "code",
      "execution_count": null,
      "metadata": {
        "id": "DB4GdF3t-aVg"
      },
      "outputs": [],
      "source": [
        "print(\"=\"*30,\"value_counts\",\"=\"*30)\n",
        "display(df_train[col].value_counts(dropna=False).head())\n",
        "display(df_test[col].value_counts(dropna=False).head())\n",
        "print(\"=\"*30,\"na\",\"=\"*30)\n",
        "print(\"train:\",df_train[col].isna().sum())\n",
        "print(\"test :\",df_test[col].isna().sum())\n",
        "print(\"=\"*30,\"dtypes\",\"=\"*30)\n",
        "print(df_train[col].dtypes)\n",
        "print(df_test[col].dtypes)"
      ]
    },
    {
      "cell_type": "code",
      "execution_count": null,
      "metadata": {
        "id": "vgdSTppy-aVh"
      },
      "outputs": [],
      "source": [
        "HistBox(df_train[col])\n",
        "HistBox(df_test[col])"
      ]
    },
    {
      "cell_type": "code",
      "execution_count": null,
      "metadata": {
        "id": "E_TnnLXj-aVh"
      },
      "outputs": [],
      "source": [
        "plot_series(df_train[col], df_test[col])\n",
        "plt.show()"
      ]
    },
    {
      "cell_type": "code",
      "execution_count": null,
      "metadata": {
        "id": "GHCTuGsp-ePL"
      },
      "outputs": [],
      "source": [
        "number, col = disp_markdown(number)"
      ]
    },
    {
      "cell_type": "code",
      "execution_count": null,
      "metadata": {
        "id": "6OxNjWAo-ePM"
      },
      "outputs": [],
      "source": [
        "print(\"=\"*30,\"value_counts\",\"=\"*30)\n",
        "display(df_train[col].value_counts(dropna=False).head())\n",
        "display(df_test[col].value_counts(dropna=False).head())\n",
        "print(\"=\"*30,\"na\",\"=\"*30)\n",
        "print(\"train:\",df_train[col].isna().sum())\n",
        "print(\"test :\",df_test[col].isna().sum())\n",
        "print(\"=\"*30,\"dtypes\",\"=\"*30)\n",
        "print(df_train[col].dtypes)\n",
        "print(df_test[col].dtypes)"
      ]
    },
    {
      "cell_type": "code",
      "execution_count": null,
      "metadata": {
        "id": "3OaPV8T2-ePN"
      },
      "outputs": [],
      "source": [
        "HistBox(df_train[col])\n",
        "HistBox(df_test[col])"
      ]
    },
    {
      "cell_type": "code",
      "execution_count": null,
      "metadata": {
        "id": "jYGrk3En-ePN"
      },
      "outputs": [],
      "source": [
        "plot_series(df_train[col], df_test[col])\n",
        "plt.show()"
      ]
    },
    {
      "cell_type": "code",
      "execution_count": null,
      "metadata": {
        "id": "jWkusAmL-mT-"
      },
      "outputs": [],
      "source": [
        "number, col = disp_markdown(number)"
      ]
    },
    {
      "cell_type": "code",
      "execution_count": null,
      "metadata": {
        "id": "n9qm7Sm5-mT-"
      },
      "outputs": [],
      "source": [
        "print(\"=\"*30,\"value_counts\",\"=\"*30)\n",
        "display(df_train[col].value_counts(dropna=False).head())\n",
        "display(df_test[col].value_counts(dropna=False).head())\n",
        "print(\"=\"*30,\"na\",\"=\"*30)\n",
        "print(\"train:\",df_train[col].isna().sum())\n",
        "print(\"test :\",df_test[col].isna().sum())\n",
        "print(\"=\"*30,\"dtypes\",\"=\"*30)\n",
        "print(df_train[col].dtypes)\n",
        "print(df_test[col].dtypes)"
      ]
    },
    {
      "cell_type": "code",
      "execution_count": null,
      "metadata": {
        "id": "urAw79oW-mT_"
      },
      "outputs": [],
      "source": [
        "HistBox(df_train[col])\n",
        "HistBox(df_test[col])"
      ]
    },
    {
      "cell_type": "code",
      "execution_count": null,
      "metadata": {
        "id": "ValbPoS2-mT_"
      },
      "outputs": [],
      "source": [
        "plot_series(df_train[col], df_test[col])\n",
        "plt.show()"
      ]
    },
    {
      "cell_type": "code",
      "execution_count": null,
      "metadata": {
        "id": "TtkMRZa55CYM"
      },
      "outputs": [],
      "source": [
        "number, col = disp_markdown(number)"
      ]
    },
    {
      "cell_type": "code",
      "execution_count": null,
      "metadata": {
        "id": "qh7Vhax15CYN"
      },
      "outputs": [],
      "source": [
        "print(\"=\"*30,\"value_counts\",\"=\"*30)\n",
        "display(df_train[col].value_counts(dropna=False).head())\n",
        "display(df_test[col].value_counts(dropna=False).head())\n",
        "print(\"=\"*30,\"na\",\"=\"*30)\n",
        "print(\"train:\",df_train[col].isna().sum())\n",
        "print(\"test :\",df_test[col].isna().sum())\n",
        "print(\"=\"*30,\"dtypes\",\"=\"*30)\n",
        "print(df_train[col].dtypes)\n",
        "print(df_test[col].dtypes)"
      ]
    },
    {
      "cell_type": "code",
      "execution_count": null,
      "metadata": {
        "id": "qBoH96N25CYO"
      },
      "outputs": [],
      "source": [
        "HistBox(df_train[col])\n",
        "HistBox(df_test[col])"
      ]
    },
    {
      "cell_type": "code",
      "execution_count": null,
      "metadata": {
        "id": "Zdr8vhWm5cvS"
      },
      "outputs": [],
      "source": [
        "set(df_test[col]) - set(df_train[col])"
      ]
    },
    {
      "cell_type": "code",
      "execution_count": null,
      "metadata": {
        "id": "cRtXCfpv51JX"
      },
      "outputs": [],
      "source": [
        "insert_loc = df_test.columns.get_loc(col)\n",
        "unique = df_train_raw[col].unique()\n",
        "unique.sort()\n",
        "for i, u in enumerate(unique):\n",
        "  df_test.insert(insert_loc+i+1, f\"{col}_{u}\", (df_test[col]==u).astype(\"uint8\"))\n",
        "df_test.drop(col, axis=1, inplace=True)\n",
        "df_train = make_dummy(df_train, col, drop=False)"
      ]
    },
    {
      "cell_type": "code",
      "execution_count": null,
      "metadata": {
        "id": "gl-ec6SU8ssB"
      },
      "outputs": [],
      "source": [
        "number, col = disp_markdown(number)"
      ]
    },
    {
      "cell_type": "code",
      "execution_count": null,
      "metadata": {
        "id": "csTuhCTo8ssC"
      },
      "outputs": [],
      "source": [
        "print(\"=\"*30,\"value_counts\",\"=\"*30)\n",
        "display(df_train[col].value_counts(dropna=False).head())\n",
        "display(df_test[col].value_counts(dropna=False).head())\n",
        "print(\"=\"*30,\"na\",\"=\"*30)\n",
        "print(\"train:\",df_train[col].isna().sum())\n",
        "print(\"test :\",df_test[col].isna().sum())\n",
        "print(\"=\"*30,\"dtypes\",\"=\"*30)\n",
        "print(df_train[col].dtypes)\n",
        "print(df_test[col].dtypes)"
      ]
    },
    {
      "cell_type": "code",
      "execution_count": null,
      "metadata": {
        "id": "Td_qw7V189NA"
      },
      "outputs": [],
      "source": [
        "print(df_train[col].nunique(), df_test[col].nunique())\n",
        "set(df_test[col]) - set(df_train[col])"
      ]
    },
    {
      "cell_type": "code",
      "execution_count": null,
      "metadata": {
        "id": "LnY35pi09Y1f"
      },
      "outputs": [],
      "source": [
        "insert_loc = df_test.columns.get_loc(col)\n",
        "unique = df_train_raw[col].unique()\n",
        "unique.sort()\n",
        "for i, u in enumerate(unique):\n",
        "  df_test.insert(insert_loc+i+1, f\"{col}_{u}\", (df_test[col]==u).astype(\"uint8\"))\n",
        "df_test.drop(col, axis=1, inplace=True)\n",
        "df_train = make_dummy(df_train, col, drop=False)"
      ]
    },
    {
      "cell_type": "code",
      "execution_count": null,
      "metadata": {
        "id": "JFUuhyQO9wL9"
      },
      "outputs": [],
      "source": [
        "number, col = disp_markdown(number)"
      ]
    },
    {
      "cell_type": "code",
      "execution_count": null,
      "metadata": {
        "id": "yyJ7Xc0R9wL-"
      },
      "outputs": [],
      "source": [
        "print(\"=\"*30,\"value_counts\",\"=\"*30)\n",
        "display(df_train[col].value_counts(dropna=False).head())\n",
        "display(df_test[col].value_counts(dropna=False).head())\n",
        "print(\"=\"*30,\"na\",\"=\"*30)\n",
        "print(\"train:\",df_train[col].isna().sum())\n",
        "print(\"test :\",df_test[col].isna().sum())\n",
        "print(\"=\"*30,\"dtypes\",\"=\"*30)\n",
        "print(df_train[col].dtypes)\n",
        "print(df_test[col].dtypes)"
      ]
    },
    {
      "cell_type": "code",
      "execution_count": null,
      "metadata": {
        "id": "9fLlwrkY9wL-"
      },
      "outputs": [],
      "source": [
        "print(df_train[col].nunique(), df_test[col].nunique())\n",
        "set(df_test[col]) - set(df_train[col])"
      ]
    },
    {
      "cell_type": "code",
      "execution_count": null,
      "metadata": {
        "id": "Qs6FauvI9wL_"
      },
      "outputs": [],
      "source": [
        "insert_loc = df_test.columns.get_loc(col)\n",
        "unique = df_train_raw[col].unique()\n",
        "unique.sort()\n",
        "for i, u in enumerate(unique):\n",
        "  df_test.insert(insert_loc+i+1, f\"{col}_{u}\", (df_test[col]==u).astype(\"uint8\"))\n",
        "df_test.drop(col, axis=1, inplace=True)\n",
        "df_train = make_dummy(df_train, col, drop=False)"
      ]
    },
    {
      "cell_type": "code",
      "execution_count": null,
      "metadata": {
        "id": "sm5HL1LU983G"
      },
      "outputs": [],
      "source": [
        "number, col = disp_markdown(number)"
      ]
    },
    {
      "cell_type": "code",
      "execution_count": null,
      "metadata": {
        "id": "1KecO1Uu983H"
      },
      "outputs": [],
      "source": [
        "print(\"=\"*30,\"value_counts\",\"=\"*30)\n",
        "display(df_train[col].value_counts(dropna=False).head())\n",
        "display(df_test[col].value_counts(dropna=False).head())\n",
        "print(\"=\"*30,\"na\",\"=\"*30)\n",
        "print(\"train:\",df_train[col].isna().sum())\n",
        "print(\"test :\",df_test[col].isna().sum())\n",
        "print(\"=\"*30,\"dtypes\",\"=\"*30)\n",
        "print(df_train[col].dtypes)\n",
        "print(df_test[col].dtypes)"
      ]
    },
    {
      "cell_type": "code",
      "execution_count": null,
      "metadata": {
        "id": "3LotO_Ym983I"
      },
      "outputs": [],
      "source": [
        "print(df_train[col].nunique(), df_test[col].nunique())\n",
        "set(df_test[col]) - set(df_train[col])"
      ]
    },
    {
      "cell_type": "code",
      "execution_count": null,
      "metadata": {
        "id": "ab_FxIpm983I"
      },
      "outputs": [],
      "source": [
        "insert_loc = df_test.columns.get_loc(col)\n",
        "unique = df_train_raw[col].unique()\n",
        "unique.sort()\n",
        "for i, u in enumerate(unique):\n",
        "  df_test.insert(insert_loc+i+1, f\"{col}_{u}\", (df_test[col]==u).astype(\"uint8\"))\n",
        "df_test.drop(col, axis=1, inplace=True)\n",
        "df_train = make_dummy(df_train, col, drop=False)"
      ]
    },
    {
      "cell_type": "code",
      "execution_count": null,
      "metadata": {
        "id": "VB3MkPDd_WRK"
      },
      "outputs": [],
      "source": [
        "number, col = disp_markdown(number)"
      ]
    },
    {
      "cell_type": "code",
      "execution_count": null,
      "metadata": {
        "id": "-Mj9ihz5_WRL"
      },
      "outputs": [],
      "source": [
        "assert col.endswith(\"temp\")"
      ]
    },
    {
      "cell_type": "code",
      "execution_count": null,
      "metadata": {
        "id": "voZf0KzQ_WRL"
      },
      "outputs": [],
      "source": [
        "print(\"=\"*30,\"value_counts\",\"=\"*30)\n",
        "display(df_train[col].value_counts(dropna=False).head())\n",
        "display(df_test[col].value_counts(dropna=False).head())\n",
        "print(\"=\"*30,\"na\",\"=\"*30)\n",
        "print(\"train:\",df_train[col].isna().sum())\n",
        "print(\"test :\",df_test[col].isna().sum())\n",
        "print(\"=\"*30,\"dtypes\",\"=\"*30)\n",
        "print(df_train[col].dtypes)\n",
        "print(df_test[col].dtypes)"
      ]
    },
    {
      "cell_type": "code",
      "execution_count": null,
      "metadata": {
        "id": "GejcE-th_WRL"
      },
      "outputs": [],
      "source": [
        "number, col = disp_markdown(number)"
      ]
    },
    {
      "cell_type": "code",
      "execution_count": null,
      "metadata": {
        "id": "hGHQ6QYe_WRM"
      },
      "outputs": [],
      "source": [
        "print(\"=\"*30,\"value_counts\",\"=\"*30)\n",
        "display(df_train[col].value_counts(dropna=False).head())\n",
        "display(df_test[col].value_counts(dropna=False).head())\n",
        "print(\"=\"*30,\"na\",\"=\"*30)\n",
        "print(\"train:\",df_train[col].isna().sum())\n",
        "print(\"test :\",df_test[col].isna().sum())\n",
        "print(\"=\"*30,\"dtypes\",\"=\"*30)\n",
        "print(df_train[col].dtypes)\n",
        "print(df_test[col].dtypes)"
      ]
    },
    {
      "cell_type": "code",
      "execution_count": null,
      "metadata": {
        "id": "_G55gJxB_WRM"
      },
      "outputs": [],
      "source": [
        "number, col = disp_markdown(number)"
      ]
    },
    {
      "cell_type": "code",
      "execution_count": null,
      "metadata": {
        "id": "wQakqIky_WRM"
      },
      "outputs": [],
      "source": [
        "print(\"=\"*30,\"value_counts\",\"=\"*30)\n",
        "display(df_train[col].value_counts(dropna=False).head())\n",
        "display(df_test[col].value_counts(dropna=False).head())\n",
        "print(\"=\"*30,\"na\",\"=\"*30)\n",
        "print(\"train:\",df_train[col].isna().sum())\n",
        "print(\"test :\",df_test[col].isna().sum())\n",
        "print(\"=\"*30,\"dtypes\",\"=\"*30)\n",
        "print(df_train[col].dtypes)\n",
        "print(df_test[col].dtypes)"
      ]
    },
    {
      "cell_type": "code",
      "execution_count": null,
      "metadata": {
        "id": "h1sp3YQ8_WRM"
      },
      "outputs": [],
      "source": [
        "HistBox(df_train[col])\n",
        "HistBox(df_test[col])"
      ]
    },
    {
      "cell_type": "code",
      "execution_count": null,
      "metadata": {
        "id": "RkA3qdo3_WRN"
      },
      "outputs": [],
      "source": [
        "area_temp_train = df_train.filter(regex=f\"^{area}_temp\")\n",
        "area_temp_test = df_test.filter(regex=f\"^{area}_temp\")\n",
        "fig, ax = plt.subplots(figsize=(15, 5))\n",
        "for col in area_temp_train.columns:\n",
        "  ax.plot(area_temp_train.index.to_timestamp(), area_temp_train[col], alpha=0.3, label=col)\n",
        "fig.legend()\n",
        "plt.show()\n",
        "fig, ax = plt.subplots(figsize=(15, 5))\n",
        "for col in area_temp_test.columns:\n",
        "  ax.plot(area_temp_test.index.to_timestamp(), area_temp_test[col], alpha=0.3, label=col)\n",
        "fig.legend()\n",
        "plt.show()"
      ]
    },
    {
      "cell_type": "code",
      "execution_count": null,
      "metadata": {
        "id": "EUuDolDJ_WRN"
      },
      "outputs": [],
      "source": [
        "number, col = disp_markdown(number)"
      ]
    },
    {
      "cell_type": "code",
      "execution_count": null,
      "metadata": {
        "id": "l3uy-ocN_WRN"
      },
      "outputs": [],
      "source": [
        "print(\"=\"*30,\"value_counts\",\"=\"*30)\n",
        "display(df_train[col].value_counts(dropna=False).head())\n",
        "display(df_test[col].value_counts(dropna=False).head())\n",
        "print(\"=\"*30,\"na\",\"=\"*30)\n",
        "print(\"train:\",df_train[col].isna().sum())\n",
        "print(\"test :\",df_test[col].isna().sum())\n",
        "print(\"=\"*30,\"dtypes\",\"=\"*30)\n",
        "print(df_train[col].dtypes)\n",
        "print(df_test[col].dtypes)"
      ]
    },
    {
      "cell_type": "code",
      "execution_count": null,
      "metadata": {
        "id": "6t7RomTe_WRO"
      },
      "outputs": [],
      "source": [
        "HistBox(df_train[col])\n",
        "HistBox(df_test[col])"
      ]
    },
    {
      "cell_type": "code",
      "execution_count": null,
      "metadata": {
        "id": "ub0dlZnR_WRO"
      },
      "outputs": [],
      "source": [
        "number, col = disp_markdown(number)"
      ]
    },
    {
      "cell_type": "code",
      "execution_count": null,
      "metadata": {
        "id": "RS1EQs-9_WRO"
      },
      "outputs": [],
      "source": [
        "print(\"=\"*30,\"value_counts\",\"=\"*30)\n",
        "display(df_train[col].value_counts(dropna=False).head())\n",
        "display(df_test[col].value_counts(dropna=False).head())\n",
        "print(\"=\"*30,\"na\",\"=\"*30)\n",
        "print(\"train:\",df_train[col].isna().sum())\n",
        "print(\"test :\",df_test[col].isna().sum())\n",
        "print(\"=\"*30,\"dtypes\",\"=\"*30)\n",
        "print(df_train[col].dtypes)\n",
        "print(df_test[col].dtypes)"
      ]
    },
    {
      "cell_type": "code",
      "execution_count": null,
      "metadata": {
        "id": "4KsExbcm_WRO"
      },
      "outputs": [],
      "source": [
        "HistBox(df_train[col])\n",
        "HistBox(df_test[col])"
      ]
    },
    {
      "cell_type": "code",
      "execution_count": null,
      "metadata": {
        "id": "vqMHsVaR_WRP"
      },
      "outputs": [],
      "source": [
        "temp_col = f\"{area}_temp\"\n",
        "df_train.insert(df_train.columns.get_loc(col)+1, col + \"_absolute\", compute_absolute_humidity(df_train, temp_col, col))\n",
        "df_test.insert(df_test.columns.get_loc(col)+1, col + \"_absolute\", compute_absolute_humidity(df_test, temp_col, col))"
      ]
    },
    {
      "cell_type": "code",
      "execution_count": null,
      "metadata": {
        "id": "03m9VG9O_WRP"
      },
      "outputs": [],
      "source": [
        "number, col = disp_markdown(number)"
      ]
    },
    {
      "cell_type": "code",
      "execution_count": null,
      "metadata": {
        "id": "hLF3l_iS_WRP"
      },
      "outputs": [],
      "source": [
        "print(\"=\"*30,\"value_counts\",\"=\"*30)\n",
        "display(df_train[col].value_counts(dropna=False).head())\n",
        "display(df_test[col].value_counts(dropna=False).head())\n",
        "print(\"=\"*30,\"na\",\"=\"*30)\n",
        "print(\"train:\",df_train[col].isna().sum())\n",
        "print(\"test :\",df_test[col].isna().sum())\n",
        "print(\"=\"*30,\"dtypes\",\"=\"*30)\n",
        "print(df_train[col].dtypes)\n",
        "print(df_test[col].dtypes)"
      ]
    },
    {
      "cell_type": "code",
      "execution_count": null,
      "metadata": {
        "id": "ffmlfZAU_WRP"
      },
      "outputs": [],
      "source": [
        "HistBox(df_train[col])\n",
        "HistBox(df_test[col])"
      ]
    },
    {
      "cell_type": "code",
      "execution_count": null,
      "metadata": {
        "id": "nF53HuZf_WRQ"
      },
      "outputs": [],
      "source": [
        "plot_series(df_train[col], df_test[col])\n",
        "plt.show()"
      ]
    },
    {
      "cell_type": "code",
      "execution_count": null,
      "metadata": {
        "id": "w5kFoVOp_WRQ"
      },
      "outputs": [],
      "source": [
        "number, col = disp_markdown(number)"
      ]
    },
    {
      "cell_type": "code",
      "execution_count": null,
      "metadata": {
        "id": "ZIUJBkhr_WRQ"
      },
      "outputs": [],
      "source": [
        "print(\"=\"*30,\"value_counts\",\"=\"*30)\n",
        "display(df_train[col].value_counts(dropna=False).head())\n",
        "display(df_test[col].value_counts(dropna=False).head())\n",
        "print(\"=\"*30,\"na\",\"=\"*30)\n",
        "print(\"train:\",df_train[col].isna().sum())\n",
        "print(\"test :\",df_test[col].isna().sum())\n",
        "print(\"=\"*30,\"dtypes\",\"=\"*30)\n",
        "print(df_train[col].dtypes)\n",
        "print(df_test[col].dtypes)"
      ]
    },
    {
      "cell_type": "code",
      "execution_count": null,
      "metadata": {
        "id": "nKqcdccA_WRQ"
      },
      "outputs": [],
      "source": [
        "HistBox(df_train[col])\n",
        "HistBox(df_test[col])"
      ]
    },
    {
      "cell_type": "code",
      "execution_count": null,
      "metadata": {
        "id": "cW3kMtb7_WRQ"
      },
      "outputs": [],
      "source": [
        "# 角度をサインに変換する\n",
        "sin_train = np.sin(df_train[col] / 360 * 2 *np.pi)\n",
        "sin_test = np.sin(df_test[col] / 360 * 2 *np.pi)"
      ]
    },
    {
      "cell_type": "code",
      "execution_count": null,
      "metadata": {
        "id": "9bodV8mZ_WRR"
      },
      "outputs": [],
      "source": [
        "HistBox(sin_train)\n",
        "HistBox(sin_test)"
      ]
    },
    {
      "cell_type": "code",
      "execution_count": null,
      "metadata": {
        "id": "xxb8VY99_WRR"
      },
      "outputs": [],
      "source": [
        "plot_series(sin_train, sin_test)\n",
        "plt.show()"
      ]
    },
    {
      "cell_type": "code",
      "execution_count": null,
      "metadata": {
        "id": "eQMSxbxn_WRR"
      },
      "outputs": [],
      "source": [
        "df_train[col] = sin_train\n",
        "df_test[col] = sin_test\n",
        "df_train.rename(columns={col:\"sin_\"+col}, inplace=True)\n",
        "df_test.rename(columns={col:\"sin_\"+col}, inplace=True)"
      ]
    },
    {
      "cell_type": "code",
      "execution_count": null,
      "metadata": {
        "id": "q4Y3Y4zS_WRR"
      },
      "outputs": [],
      "source": [
        "number, col = disp_markdown(number)"
      ]
    },
    {
      "cell_type": "code",
      "execution_count": null,
      "metadata": {
        "id": "7u-QF96b_WRR"
      },
      "outputs": [],
      "source": [
        "print(\"=\"*30,\"value_counts\",\"=\"*30)\n",
        "display(df_train[col].value_counts(dropna=False).head())\n",
        "display(df_test[col].value_counts(dropna=False).head())\n",
        "print(\"=\"*30,\"na\",\"=\"*30)\n",
        "print(\"train:\",df_train[col].isna().sum())\n",
        "print(\"test :\",df_test[col].isna().sum())\n",
        "print(\"=\"*30,\"dtypes\",\"=\"*30)\n",
        "print(df_train[col].dtypes)\n",
        "print(df_test[col].dtypes)"
      ]
    },
    {
      "cell_type": "code",
      "execution_count": null,
      "metadata": {
        "id": "DG5UXBxY_WRS"
      },
      "outputs": [],
      "source": [
        "HistBox(df_train[col])\n",
        "HistBox(df_test[col])"
      ]
    },
    {
      "cell_type": "code",
      "execution_count": null,
      "metadata": {
        "id": "UgqxnZ24_WRS"
      },
      "outputs": [],
      "source": [
        "plot_series(df_train[col], df_test[col])\n",
        "plt.show()"
      ]
    },
    {
      "cell_type": "code",
      "execution_count": null,
      "metadata": {
        "id": "ElOlWNNC_WRS"
      },
      "outputs": [],
      "source": [
        "number, col = disp_markdown(number)"
      ]
    },
    {
      "cell_type": "code",
      "execution_count": null,
      "metadata": {
        "id": "bsZIuYDy_WRS"
      },
      "outputs": [],
      "source": [
        "print(\"=\"*30,\"value_counts\",\"=\"*30)\n",
        "display(df_train[col].value_counts(dropna=False).head())\n",
        "display(df_test[col].value_counts(dropna=False).head())\n",
        "print(\"=\"*30,\"na\",\"=\"*30)\n",
        "print(\"train:\",df_train[col].isna().sum())\n",
        "print(\"test :\",df_test[col].isna().sum())\n",
        "print(\"=\"*30,\"dtypes\",\"=\"*30)\n",
        "print(df_train[col].dtypes)\n",
        "print(df_test[col].dtypes)"
      ]
    },
    {
      "cell_type": "code",
      "execution_count": null,
      "metadata": {
        "id": "Zp69tKg-_WRS"
      },
      "outputs": [],
      "source": [
        "HistBox(df_train[col])\n",
        "HistBox(df_test[col])"
      ]
    },
    {
      "cell_type": "code",
      "execution_count": null,
      "metadata": {
        "id": "FfSGX6QS_WRT"
      },
      "outputs": [],
      "source": [
        "plot_series(df_train[col], df_test[col])\n",
        "plt.show()"
      ]
    },
    {
      "cell_type": "code",
      "execution_count": null,
      "metadata": {
        "id": "CmAZe7kq_WRT"
      },
      "outputs": [],
      "source": [
        "number, col = disp_markdown(number)"
      ]
    },
    {
      "cell_type": "code",
      "execution_count": null,
      "metadata": {
        "id": "mAc76iNS_WRT"
      },
      "outputs": [],
      "source": [
        "print(\"=\"*30,\"value_counts\",\"=\"*30)\n",
        "display(df_train[col].value_counts(dropna=False).head())\n",
        "display(df_test[col].value_counts(dropna=False).head())\n",
        "print(\"=\"*30,\"na\",\"=\"*30)\n",
        "print(\"train:\",df_train[col].isna().sum())\n",
        "print(\"test :\",df_test[col].isna().sum())\n",
        "print(\"=\"*30,\"dtypes\",\"=\"*30)\n",
        "print(df_train[col].dtypes)\n",
        "print(df_test[col].dtypes)"
      ]
    },
    {
      "cell_type": "code",
      "execution_count": null,
      "metadata": {
        "id": "BgZiqsah_WRT"
      },
      "outputs": [],
      "source": [
        "HistBox(df_train[col])\n",
        "HistBox(df_test[col])"
      ]
    },
    {
      "cell_type": "code",
      "execution_count": null,
      "metadata": {
        "id": "Wi9FqifK_WRU"
      },
      "outputs": [],
      "source": [
        "plot_series(df_train[col], df_test[col])\n",
        "plt.show()"
      ]
    },
    {
      "cell_type": "code",
      "execution_count": null,
      "metadata": {
        "id": "9go9VszW_WRU"
      },
      "outputs": [],
      "source": [
        "number, col = disp_markdown(number)"
      ]
    },
    {
      "cell_type": "code",
      "execution_count": null,
      "metadata": {
        "id": "Fo2DFbWD_WRU"
      },
      "outputs": [],
      "source": [
        "print(\"=\"*30,\"value_counts\",\"=\"*30)\n",
        "display(df_train[col].value_counts(dropna=False).head())\n",
        "display(df_test[col].value_counts(dropna=False).head())\n",
        "print(\"=\"*30,\"na\",\"=\"*30)\n",
        "print(\"train:\",df_train[col].isna().sum())\n",
        "print(\"test :\",df_test[col].isna().sum())\n",
        "print(\"=\"*30,\"dtypes\",\"=\"*30)\n",
        "print(df_train[col].dtypes)\n",
        "print(df_test[col].dtypes)"
      ]
    },
    {
      "cell_type": "code",
      "execution_count": null,
      "metadata": {
        "id": "XgXaik4C_WRU"
      },
      "outputs": [],
      "source": [
        "HistBox(df_train[col])\n",
        "HistBox(df_test[col])"
      ]
    },
    {
      "cell_type": "code",
      "execution_count": null,
      "metadata": {
        "id": "kcR-LlDO_WRU"
      },
      "outputs": [],
      "source": [
        "plot_series(df_train[col], df_test[col])\n",
        "plt.show()"
      ]
    },
    {
      "cell_type": "code",
      "execution_count": null,
      "metadata": {
        "id": "IPNbSzQ0_WRV"
      },
      "outputs": [],
      "source": [
        "number, col = disp_markdown(number)"
      ]
    },
    {
      "cell_type": "code",
      "execution_count": null,
      "metadata": {
        "id": "AlsORpAl_WRV"
      },
      "outputs": [],
      "source": [
        "print(\"=\"*30,\"value_counts\",\"=\"*30)\n",
        "display(df_train[col].value_counts(dropna=False).head())\n",
        "display(df_test[col].value_counts(dropna=False).head())\n",
        "print(\"=\"*30,\"na\",\"=\"*30)\n",
        "print(\"train:\",df_train[col].isna().sum())\n",
        "print(\"test :\",df_test[col].isna().sum())\n",
        "print(\"=\"*30,\"dtypes\",\"=\"*30)\n",
        "print(df_train[col].dtypes)\n",
        "print(df_test[col].dtypes)"
      ]
    },
    {
      "cell_type": "code",
      "execution_count": null,
      "metadata": {
        "id": "wQQkn3yV_WRV"
      },
      "outputs": [],
      "source": [
        "HistBox(df_train[col])\n",
        "HistBox(df_test[col])"
      ]
    },
    {
      "cell_type": "code",
      "execution_count": null,
      "metadata": {
        "id": "6zZY8G5c_WRV"
      },
      "outputs": [],
      "source": [
        "set(df_test[col]) - set(df_train[col])"
      ]
    },
    {
      "cell_type": "code",
      "execution_count": null,
      "metadata": {
        "id": "fEqniJEk_WRW"
      },
      "outputs": [],
      "source": [
        "insert_loc = df_test.columns.get_loc(col)\n",
        "unique = df_train_raw[col].unique()\n",
        "unique.sort()\n",
        "for i, u in enumerate(unique):\n",
        "  df_test.insert(insert_loc+i+1, f\"{col}_{u}\", (df_test[col]==u).astype(\"uint8\"))\n",
        "df_test.drop(col, axis=1, inplace=True)\n",
        "df_train = make_dummy(df_train, col, drop=False)"
      ]
    },
    {
      "cell_type": "code",
      "execution_count": null,
      "metadata": {
        "id": "GVTu0qFg_WRW"
      },
      "outputs": [],
      "source": [
        "number, col = disp_markdown(number)"
      ]
    },
    {
      "cell_type": "code",
      "execution_count": null,
      "metadata": {
        "id": "VA9plbW8_WRW"
      },
      "outputs": [],
      "source": [
        "print(\"=\"*30,\"value_counts\",\"=\"*30)\n",
        "display(df_train[col].value_counts(dropna=False).head())\n",
        "display(df_test[col].value_counts(dropna=False).head())\n",
        "print(\"=\"*30,\"na\",\"=\"*30)\n",
        "print(\"train:\",df_train[col].isna().sum())\n",
        "print(\"test :\",df_test[col].isna().sum())\n",
        "print(\"=\"*30,\"dtypes\",\"=\"*30)\n",
        "print(df_train[col].dtypes)\n",
        "print(df_test[col].dtypes)"
      ]
    },
    {
      "cell_type": "code",
      "execution_count": null,
      "metadata": {
        "id": "gxOFguvc_WRW"
      },
      "outputs": [],
      "source": [
        "print(df_train[col].nunique(), df_test[col].nunique())\n",
        "set(df_test[col]) - set(df_train[col])"
      ]
    },
    {
      "cell_type": "code",
      "execution_count": null,
      "metadata": {
        "id": "CDHrgty-_WRX"
      },
      "outputs": [],
      "source": [
        "insert_loc = df_test.columns.get_loc(col)\n",
        "unique = df_train_raw[col].unique()\n",
        "unique.sort()\n",
        "for i, u in enumerate(unique):\n",
        "  df_test.insert(insert_loc+i+1, f\"{col}_{u}\", (df_test[col]==u).astype(\"uint8\"))\n",
        "df_test.drop(col, axis=1, inplace=True)\n",
        "df_train = make_dummy(df_train, col, drop=False)"
      ]
    },
    {
      "cell_type": "code",
      "execution_count": null,
      "metadata": {
        "id": "K4JUX00G_WRX"
      },
      "outputs": [],
      "source": [
        "number, col = disp_markdown(number)"
      ]
    },
    {
      "cell_type": "code",
      "execution_count": null,
      "metadata": {
        "id": "tA1M0250_WRX"
      },
      "outputs": [],
      "source": [
        "print(\"=\"*30,\"value_counts\",\"=\"*30)\n",
        "display(df_train[col].value_counts(dropna=False).head())\n",
        "display(df_test[col].value_counts(dropna=False).head())\n",
        "print(\"=\"*30,\"na\",\"=\"*30)\n",
        "print(\"train:\",df_train[col].isna().sum())\n",
        "print(\"test :\",df_test[col].isna().sum())\n",
        "print(\"=\"*30,\"dtypes\",\"=\"*30)\n",
        "print(df_train[col].dtypes)\n",
        "print(df_test[col].dtypes)"
      ]
    },
    {
      "cell_type": "code",
      "execution_count": null,
      "metadata": {
        "id": "1wPA0IKG_WRX"
      },
      "outputs": [],
      "source": [
        "print(df_train[col].nunique(), df_test[col].nunique())\n",
        "set(df_test[col]) - set(df_train[col])"
      ]
    },
    {
      "cell_type": "code",
      "execution_count": null,
      "metadata": {
        "id": "SULjv45m_WRY"
      },
      "outputs": [],
      "source": [
        "insert_loc = df_test.columns.get_loc(col)\n",
        "unique = df_train_raw[col].unique()\n",
        "unique.sort()\n",
        "for i, u in enumerate(unique):\n",
        "  df_test.insert(insert_loc+i+1, f\"{col}_{u}\", (df_test[col]==u).astype(\"uint8\"))\n",
        "df_test.drop(col, axis=1, inplace=True)\n",
        "df_train = make_dummy(df_train, col, drop=False)"
      ]
    },
    {
      "cell_type": "code",
      "execution_count": null,
      "metadata": {
        "id": "OWzsSch4_WRY"
      },
      "outputs": [],
      "source": [
        "number, col = disp_markdown(number)"
      ]
    },
    {
      "cell_type": "code",
      "execution_count": null,
      "metadata": {
        "id": "rOzT-WpJ_WRY"
      },
      "outputs": [],
      "source": [
        "print(\"=\"*30,\"value_counts\",\"=\"*30)\n",
        "display(df_train[col].value_counts(dropna=False).head())\n",
        "display(df_test[col].value_counts(dropna=False).head())\n",
        "print(\"=\"*30,\"na\",\"=\"*30)\n",
        "print(\"train:\",df_train[col].isna().sum())\n",
        "print(\"test :\",df_test[col].isna().sum())\n",
        "print(\"=\"*30,\"dtypes\",\"=\"*30)\n",
        "print(df_train[col].dtypes)\n",
        "print(df_test[col].dtypes)"
      ]
    },
    {
      "cell_type": "code",
      "execution_count": null,
      "metadata": {
        "id": "eGqKIb8r_WRY"
      },
      "outputs": [],
      "source": [
        "print(df_train[col].nunique(), df_test[col].nunique())\n",
        "set(df_test[col]) - set(df_train[col])"
      ]
    },
    {
      "cell_type": "code",
      "execution_count": null,
      "metadata": {
        "id": "o9jGxLYD_WRY"
      },
      "outputs": [],
      "source": [
        "insert_loc = df_test.columns.get_loc(col)\n",
        "unique = df_train_raw[col].unique()\n",
        "unique.sort()\n",
        "for i, u in enumerate(unique):\n",
        "  df_test.insert(insert_loc+i+1, f\"{col}_{u}\", (df_test[col]==u).astype(\"uint8\"))\n",
        "df_test.drop(col, axis=1, inplace=True)\n",
        "df_train = make_dummy(df_train, col, drop=False)"
      ]
    },
    {
      "cell_type": "code",
      "execution_count": null,
      "metadata": {
        "id": "cgvPXlo6_YHY"
      },
      "outputs": [],
      "source": [
        "number, col = disp_markdown(number)"
      ]
    },
    {
      "cell_type": "code",
      "execution_count": null,
      "metadata": {
        "id": "-sJnvOxv_YHZ"
      },
      "outputs": [],
      "source": [
        "assert col.endswith(\"temp\")"
      ]
    },
    {
      "cell_type": "code",
      "execution_count": null,
      "metadata": {
        "id": "Oqv1vafA_YHZ"
      },
      "outputs": [],
      "source": [
        "print(\"=\"*30,\"value_counts\",\"=\"*30)\n",
        "display(df_train[col].value_counts(dropna=False).head())\n",
        "display(df_test[col].value_counts(dropna=False).head())\n",
        "print(\"=\"*30,\"na\",\"=\"*30)\n",
        "print(\"train:\",df_train[col].isna().sum())\n",
        "print(\"test :\",df_test[col].isna().sum())\n",
        "print(\"=\"*30,\"dtypes\",\"=\"*30)\n",
        "print(df_train[col].dtypes)\n",
        "print(df_test[col].dtypes)"
      ]
    },
    {
      "cell_type": "code",
      "execution_count": null,
      "metadata": {
        "id": "o9VwF6Hb_YHa"
      },
      "outputs": [],
      "source": [
        "number, col = disp_markdown(number)"
      ]
    },
    {
      "cell_type": "code",
      "execution_count": null,
      "metadata": {
        "id": "KJv9cooP_YHa"
      },
      "outputs": [],
      "source": [
        "print(\"=\"*30,\"value_counts\",\"=\"*30)\n",
        "display(df_train[col].value_counts(dropna=False).head())\n",
        "display(df_test[col].value_counts(dropna=False).head())\n",
        "print(\"=\"*30,\"na\",\"=\"*30)\n",
        "print(\"train:\",df_train[col].isna().sum())\n",
        "print(\"test :\",df_test[col].isna().sum())\n",
        "print(\"=\"*30,\"dtypes\",\"=\"*30)\n",
        "print(df_train[col].dtypes)\n",
        "print(df_test[col].dtypes)"
      ]
    },
    {
      "cell_type": "code",
      "execution_count": null,
      "metadata": {
        "id": "xOij6tVc_YHa"
      },
      "outputs": [],
      "source": [
        "number, col = disp_markdown(number)"
      ]
    },
    {
      "cell_type": "code",
      "execution_count": null,
      "metadata": {
        "id": "wBJKTzil_YHb"
      },
      "outputs": [],
      "source": [
        "print(\"=\"*30,\"value_counts\",\"=\"*30)\n",
        "display(df_train[col].value_counts(dropna=False).head())\n",
        "display(df_test[col].value_counts(dropna=False).head())\n",
        "print(\"=\"*30,\"na\",\"=\"*30)\n",
        "print(\"train:\",df_train[col].isna().sum())\n",
        "print(\"test :\",df_test[col].isna().sum())\n",
        "print(\"=\"*30,\"dtypes\",\"=\"*30)\n",
        "print(df_train[col].dtypes)\n",
        "print(df_test[col].dtypes)"
      ]
    },
    {
      "cell_type": "code",
      "execution_count": null,
      "metadata": {
        "id": "_GcXizm0_YHb"
      },
      "outputs": [],
      "source": [
        "HistBox(df_train[col])\n",
        "HistBox(df_test[col])"
      ]
    },
    {
      "cell_type": "code",
      "execution_count": null,
      "metadata": {
        "id": "LdUTz-U2_YHb"
      },
      "outputs": [],
      "source": [
        "area_temp_train = df_train.filter(regex=f\"^{area}_temp\")\n",
        "area_temp_test = df_test.filter(regex=f\"^{area}_temp\")\n",
        "fig, ax = plt.subplots(figsize=(15, 5))\n",
        "for col in area_temp_train.columns:\n",
        "  ax.plot(area_temp_train.index.to_timestamp(), area_temp_train[col], alpha=0.3, label=col)\n",
        "fig.legend()\n",
        "plt.show()\n",
        "fig, ax = plt.subplots(figsize=(15, 5))\n",
        "for col in area_temp_test.columns:\n",
        "  ax.plot(area_temp_test.index.to_timestamp(), area_temp_test[col], alpha=0.3, label=col)\n",
        "fig.legend()\n",
        "plt.show()"
      ]
    },
    {
      "cell_type": "code",
      "execution_count": null,
      "metadata": {
        "id": "QfKps73u_YHb"
      },
      "outputs": [],
      "source": [
        "number, col = disp_markdown(number)"
      ]
    },
    {
      "cell_type": "code",
      "execution_count": null,
      "metadata": {
        "id": "fGM4o65W_YHb"
      },
      "outputs": [],
      "source": [
        "print(\"=\"*30,\"value_counts\",\"=\"*30)\n",
        "display(df_train[col].value_counts(dropna=False).head())\n",
        "display(df_test[col].value_counts(dropna=False).head())\n",
        "print(\"=\"*30,\"na\",\"=\"*30)\n",
        "print(\"train:\",df_train[col].isna().sum())\n",
        "print(\"test :\",df_test[col].isna().sum())\n",
        "print(\"=\"*30,\"dtypes\",\"=\"*30)\n",
        "print(df_train[col].dtypes)\n",
        "print(df_test[col].dtypes)"
      ]
    },
    {
      "cell_type": "code",
      "execution_count": null,
      "metadata": {
        "id": "gWjRmMhe_YHc"
      },
      "outputs": [],
      "source": [
        "HistBox(df_train[col])\n",
        "HistBox(df_test[col])"
      ]
    },
    {
      "cell_type": "code",
      "execution_count": null,
      "metadata": {
        "id": "2ZcgUYtd_YHc"
      },
      "outputs": [],
      "source": [
        "number, col = disp_markdown(number)"
      ]
    },
    {
      "cell_type": "code",
      "execution_count": null,
      "metadata": {
        "id": "8wSkoYM1_YHc"
      },
      "outputs": [],
      "source": [
        "print(\"=\"*30,\"value_counts\",\"=\"*30)\n",
        "display(df_train[col].value_counts(dropna=False).head())\n",
        "display(df_test[col].value_counts(dropna=False).head())\n",
        "print(\"=\"*30,\"na\",\"=\"*30)\n",
        "print(\"train:\",df_train[col].isna().sum())\n",
        "print(\"test :\",df_test[col].isna().sum())\n",
        "print(\"=\"*30,\"dtypes\",\"=\"*30)\n",
        "print(df_train[col].dtypes)\n",
        "print(df_test[col].dtypes)"
      ]
    },
    {
      "cell_type": "code",
      "execution_count": null,
      "metadata": {
        "id": "KbstLuKY_YHc"
      },
      "outputs": [],
      "source": [
        "HistBox(df_train[col])\n",
        "HistBox(df_test[col])"
      ]
    },
    {
      "cell_type": "code",
      "execution_count": null,
      "metadata": {
        "id": "dxOUSowv_YHd"
      },
      "outputs": [],
      "source": [
        "temp_col = f\"{area}_temp\"\n",
        "df_train.insert(df_train.columns.get_loc(col)+1, col + \"_absolute\", compute_absolute_humidity(df_train, temp_col, col))\n",
        "df_test.insert(df_test.columns.get_loc(col)+1, col + \"_absolute\", compute_absolute_humidity(df_test, temp_col, col))"
      ]
    },
    {
      "cell_type": "code",
      "execution_count": null,
      "metadata": {
        "id": "YNoXXfrg_YHd"
      },
      "outputs": [],
      "source": [
        "number, col = disp_markdown(number)"
      ]
    },
    {
      "cell_type": "code",
      "execution_count": null,
      "metadata": {
        "id": "BF4HKwqt_YHd"
      },
      "outputs": [],
      "source": [
        "print(\"=\"*30,\"value_counts\",\"=\"*30)\n",
        "display(df_train[col].value_counts(dropna=False).head())\n",
        "display(df_test[col].value_counts(dropna=False).head())\n",
        "print(\"=\"*30,\"na\",\"=\"*30)\n",
        "print(\"train:\",df_train[col].isna().sum())\n",
        "print(\"test :\",df_test[col].isna().sum())\n",
        "print(\"=\"*30,\"dtypes\",\"=\"*30)\n",
        "print(df_train[col].dtypes)\n",
        "print(df_test[col].dtypes)"
      ]
    },
    {
      "cell_type": "code",
      "execution_count": null,
      "metadata": {
        "id": "2m6RuieP_YHd"
      },
      "outputs": [],
      "source": [
        "HistBox(df_train[col])\n",
        "HistBox(df_test[col])"
      ]
    },
    {
      "cell_type": "code",
      "execution_count": null,
      "metadata": {
        "id": "d5iHQO1H_YHd"
      },
      "outputs": [],
      "source": [
        "plot_series(df_train[col], df_test[col])\n",
        "plt.show()"
      ]
    },
    {
      "cell_type": "code",
      "execution_count": null,
      "metadata": {
        "id": "8WId_u0C_YHe"
      },
      "outputs": [],
      "source": [
        "number, col = disp_markdown(number)"
      ]
    },
    {
      "cell_type": "code",
      "execution_count": null,
      "metadata": {
        "id": "qnedkWnf_YHe"
      },
      "outputs": [],
      "source": [
        "print(\"=\"*30,\"value_counts\",\"=\"*30)\n",
        "display(df_train[col].value_counts(dropna=False).head())\n",
        "display(df_test[col].value_counts(dropna=False).head())\n",
        "print(\"=\"*30,\"na\",\"=\"*30)\n",
        "print(\"train:\",df_train[col].isna().sum())\n",
        "print(\"test :\",df_test[col].isna().sum())\n",
        "print(\"=\"*30,\"dtypes\",\"=\"*30)\n",
        "print(df_train[col].dtypes)\n",
        "print(df_test[col].dtypes)"
      ]
    },
    {
      "cell_type": "code",
      "execution_count": null,
      "metadata": {
        "id": "USbID3oe_YHe"
      },
      "outputs": [],
      "source": [
        "HistBox(df_train[col])\n",
        "HistBox(df_test[col])"
      ]
    },
    {
      "cell_type": "code",
      "execution_count": null,
      "metadata": {
        "id": "oWHjQn0n_YHe"
      },
      "outputs": [],
      "source": [
        "# 角度をサインに変換する\n",
        "sin_train = np.sin(df_train[col] / 360 * 2 *np.pi)\n",
        "sin_test = np.sin(df_test[col] / 360 * 2 *np.pi)"
      ]
    },
    {
      "cell_type": "code",
      "execution_count": null,
      "metadata": {
        "id": "mHbm6DNv_YHe"
      },
      "outputs": [],
      "source": [
        "HistBox(sin_train)\n",
        "HistBox(sin_test)"
      ]
    },
    {
      "cell_type": "code",
      "execution_count": null,
      "metadata": {
        "id": "3XCMdVBQ_YHf"
      },
      "outputs": [],
      "source": [
        "plot_series(sin_train, sin_test)\n",
        "plt.show()"
      ]
    },
    {
      "cell_type": "code",
      "execution_count": null,
      "metadata": {
        "id": "0R9rRJtv_YHf"
      },
      "outputs": [],
      "source": [
        "df_train[col] = sin_train\n",
        "df_test[col] = sin_test\n",
        "df_train.rename(columns={col:\"sin_\"+col}, inplace=True)\n",
        "df_test.rename(columns={col:\"sin_\"+col}, inplace=True)"
      ]
    },
    {
      "cell_type": "code",
      "execution_count": null,
      "metadata": {
        "id": "H7G-JZB7_YHf"
      },
      "outputs": [],
      "source": [
        "number, col = disp_markdown(number)"
      ]
    },
    {
      "cell_type": "code",
      "execution_count": null,
      "metadata": {
        "id": "TIVrUntl_YHf"
      },
      "outputs": [],
      "source": [
        "print(\"=\"*30,\"value_counts\",\"=\"*30)\n",
        "display(df_train[col].value_counts(dropna=False).head())\n",
        "display(df_test[col].value_counts(dropna=False).head())\n",
        "print(\"=\"*30,\"na\",\"=\"*30)\n",
        "print(\"train:\",df_train[col].isna().sum())\n",
        "print(\"test :\",df_test[col].isna().sum())\n",
        "print(\"=\"*30,\"dtypes\",\"=\"*30)\n",
        "print(df_train[col].dtypes)\n",
        "print(df_test[col].dtypes)"
      ]
    },
    {
      "cell_type": "code",
      "execution_count": null,
      "metadata": {
        "id": "tlh49AD5_YHf"
      },
      "outputs": [],
      "source": [
        "HistBox(df_train[col])\n",
        "HistBox(df_test[col])"
      ]
    },
    {
      "cell_type": "code",
      "execution_count": null,
      "metadata": {
        "id": "ukjVmAZ1_YHg"
      },
      "outputs": [],
      "source": [
        "plot_series(df_train[col], df_test[col])\n",
        "plt.show()"
      ]
    },
    {
      "cell_type": "code",
      "execution_count": null,
      "metadata": {
        "id": "3SFGdB4q_YHg"
      },
      "outputs": [],
      "source": [
        "number, col = disp_markdown(number)"
      ]
    },
    {
      "cell_type": "code",
      "execution_count": null,
      "metadata": {
        "id": "XCiwmo3G_YHg"
      },
      "outputs": [],
      "source": [
        "print(\"=\"*30,\"value_counts\",\"=\"*30)\n",
        "display(df_train[col].value_counts(dropna=False).head())\n",
        "display(df_test[col].value_counts(dropna=False).head())\n",
        "print(\"=\"*30,\"na\",\"=\"*30)\n",
        "print(\"train:\",df_train[col].isna().sum())\n",
        "print(\"test :\",df_test[col].isna().sum())\n",
        "print(\"=\"*30,\"dtypes\",\"=\"*30)\n",
        "print(df_train[col].dtypes)\n",
        "print(df_test[col].dtypes)"
      ]
    },
    {
      "cell_type": "code",
      "execution_count": null,
      "metadata": {
        "id": "FcYMH2D8_YHg"
      },
      "outputs": [],
      "source": [
        "HistBox(df_train[col])\n",
        "HistBox(df_test[col])"
      ]
    },
    {
      "cell_type": "code",
      "execution_count": null,
      "metadata": {
        "id": "49HKq38t_YHg"
      },
      "outputs": [],
      "source": [
        "plot_series(df_train[col], df_test[col])\n",
        "plt.show()"
      ]
    },
    {
      "cell_type": "code",
      "execution_count": null,
      "metadata": {
        "id": "VfzIXlGr_YHh"
      },
      "outputs": [],
      "source": [
        "number, col = disp_markdown(number)"
      ]
    },
    {
      "cell_type": "code",
      "execution_count": null,
      "metadata": {
        "id": "bl81N8qg_YHh"
      },
      "outputs": [],
      "source": [
        "print(\"=\"*30,\"value_counts\",\"=\"*30)\n",
        "display(df_train[col].value_counts(dropna=False).head())\n",
        "display(df_test[col].value_counts(dropna=False).head())\n",
        "print(\"=\"*30,\"na\",\"=\"*30)\n",
        "print(\"train:\",df_train[col].isna().sum())\n",
        "print(\"test :\",df_test[col].isna().sum())\n",
        "print(\"=\"*30,\"dtypes\",\"=\"*30)\n",
        "print(df_train[col].dtypes)\n",
        "print(df_test[col].dtypes)"
      ]
    },
    {
      "cell_type": "code",
      "execution_count": null,
      "metadata": {
        "id": "st0ZD8G4_YHh"
      },
      "outputs": [],
      "source": [
        "HistBox(df_train[col])\n",
        "HistBox(df_test[col])"
      ]
    },
    {
      "cell_type": "code",
      "execution_count": null,
      "metadata": {
        "id": "Yc_fN5Lx_YHi"
      },
      "outputs": [],
      "source": [
        "plot_series(df_train[col], df_test[col])\n",
        "plt.show()"
      ]
    },
    {
      "cell_type": "code",
      "execution_count": null,
      "metadata": {
        "id": "a5rtmAMQ_YHi"
      },
      "outputs": [],
      "source": [
        "number, col = disp_markdown(number)"
      ]
    },
    {
      "cell_type": "code",
      "execution_count": null,
      "metadata": {
        "id": "EhQ6CYlD_YHi"
      },
      "outputs": [],
      "source": [
        "print(\"=\"*30,\"value_counts\",\"=\"*30)\n",
        "display(df_train[col].value_counts(dropna=False).head())\n",
        "display(df_test[col].value_counts(dropna=False).head())\n",
        "print(\"=\"*30,\"na\",\"=\"*30)\n",
        "print(\"train:\",df_train[col].isna().sum())\n",
        "print(\"test :\",df_test[col].isna().sum())\n",
        "print(\"=\"*30,\"dtypes\",\"=\"*30)\n",
        "print(df_train[col].dtypes)\n",
        "print(df_test[col].dtypes)"
      ]
    },
    {
      "cell_type": "code",
      "execution_count": null,
      "metadata": {
        "id": "-4u9TOuM_YHi"
      },
      "outputs": [],
      "source": [
        "HistBox(df_train[col])\n",
        "HistBox(df_test[col])"
      ]
    },
    {
      "cell_type": "code",
      "execution_count": null,
      "metadata": {
        "id": "lgtIBN8O_YHj"
      },
      "outputs": [],
      "source": [
        "plot_series(df_train[col], df_test[col])\n",
        "plt.show()"
      ]
    },
    {
      "cell_type": "code",
      "execution_count": null,
      "metadata": {
        "id": "G2dvLLm4_YHj"
      },
      "outputs": [],
      "source": [
        "number, col = disp_markdown(number)"
      ]
    },
    {
      "cell_type": "code",
      "execution_count": null,
      "metadata": {
        "id": "65AKu8TO_YHj"
      },
      "outputs": [],
      "source": [
        "print(\"=\"*30,\"value_counts\",\"=\"*30)\n",
        "display(df_train[col].value_counts(dropna=False).head())\n",
        "display(df_test[col].value_counts(dropna=False).head())\n",
        "print(\"=\"*30,\"na\",\"=\"*30)\n",
        "print(\"train:\",df_train[col].isna().sum())\n",
        "print(\"test :\",df_test[col].isna().sum())\n",
        "print(\"=\"*30,\"dtypes\",\"=\"*30)\n",
        "print(df_train[col].dtypes)\n",
        "print(df_test[col].dtypes)"
      ]
    },
    {
      "cell_type": "code",
      "execution_count": null,
      "metadata": {
        "id": "O49mNHnm_YHj"
      },
      "outputs": [],
      "source": [
        "HistBox(df_train[col])\n",
        "HistBox(df_test[col])"
      ]
    },
    {
      "cell_type": "code",
      "execution_count": null,
      "metadata": {
        "id": "KXdaQoGd_YHk"
      },
      "outputs": [],
      "source": [
        "set(df_test[col]) - set(df_train[col])"
      ]
    },
    {
      "cell_type": "code",
      "execution_count": null,
      "metadata": {
        "id": "enxesYoq_YHk"
      },
      "outputs": [],
      "source": [
        "insert_loc = df_test.columns.get_loc(col)\n",
        "unique = df_train_raw[col].unique()\n",
        "unique.sort()\n",
        "for i, u in enumerate(unique):\n",
        "  df_test.insert(insert_loc+i+1, f\"{col}_{u}\", (df_test[col]==u).astype(\"uint8\"))\n",
        "df_test.drop(col, axis=1, inplace=True)\n",
        "df_train = make_dummy(df_train, col, drop=False)"
      ]
    },
    {
      "cell_type": "code",
      "execution_count": null,
      "metadata": {
        "id": "cSZ3XxN6_YHk"
      },
      "outputs": [],
      "source": [
        "number, col = disp_markdown(number)"
      ]
    },
    {
      "cell_type": "code",
      "execution_count": null,
      "metadata": {
        "id": "CHLJlO9__YHk"
      },
      "outputs": [],
      "source": [
        "print(\"=\"*30,\"value_counts\",\"=\"*30)\n",
        "display(df_train[col].value_counts(dropna=False).head())\n",
        "display(df_test[col].value_counts(dropna=False).head())\n",
        "print(\"=\"*30,\"na\",\"=\"*30)\n",
        "print(\"train:\",df_train[col].isna().sum())\n",
        "print(\"test :\",df_test[col].isna().sum())\n",
        "print(\"=\"*30,\"dtypes\",\"=\"*30)\n",
        "print(df_train[col].dtypes)\n",
        "print(df_test[col].dtypes)"
      ]
    },
    {
      "cell_type": "code",
      "execution_count": null,
      "metadata": {
        "id": "VKoxWT-l_YHk"
      },
      "outputs": [],
      "source": [
        "print(df_train[col].nunique(), df_test[col].nunique())\n",
        "set(df_test[col]) - set(df_train[col])"
      ]
    },
    {
      "cell_type": "code",
      "execution_count": null,
      "metadata": {
        "id": "5P5Qdnuo_YHl"
      },
      "outputs": [],
      "source": [
        "insert_loc = df_test.columns.get_loc(col)\n",
        "unique = df_train_raw[col].unique()\n",
        "unique.sort()\n",
        "for i, u in enumerate(unique):\n",
        "  df_test.insert(insert_loc+i+1, f\"{col}_{u}\", (df_test[col]==u).astype(\"uint8\"))\n",
        "df_test.drop(col, axis=1, inplace=True)\n",
        "df_train = make_dummy(df_train, col, drop=False)"
      ]
    },
    {
      "cell_type": "code",
      "execution_count": null,
      "metadata": {
        "id": "q3NrvPbn_YHl"
      },
      "outputs": [],
      "source": [
        "number, col = disp_markdown(number)"
      ]
    },
    {
      "cell_type": "code",
      "execution_count": null,
      "metadata": {
        "id": "r8dz3UVm_YHl"
      },
      "outputs": [],
      "source": [
        "print(\"=\"*30,\"value_counts\",\"=\"*30)\n",
        "display(df_train[col].value_counts(dropna=False).head())\n",
        "display(df_test[col].value_counts(dropna=False).head())\n",
        "print(\"=\"*30,\"na\",\"=\"*30)\n",
        "print(\"train:\",df_train[col].isna().sum())\n",
        "print(\"test :\",df_test[col].isna().sum())\n",
        "print(\"=\"*30,\"dtypes\",\"=\"*30)\n",
        "print(df_train[col].dtypes)\n",
        "print(df_test[col].dtypes)"
      ]
    },
    {
      "cell_type": "code",
      "execution_count": null,
      "metadata": {
        "id": "A5yQeJI8_YHl"
      },
      "outputs": [],
      "source": [
        "print(df_train[col].nunique(), df_test[col].nunique())\n",
        "set(df_test[col]) - set(df_train[col])"
      ]
    },
    {
      "cell_type": "code",
      "execution_count": null,
      "metadata": {
        "id": "7v8zo6l__YHm"
      },
      "outputs": [],
      "source": [
        "insert_loc = df_test.columns.get_loc(col)\n",
        "unique = df_train_raw[col].unique()\n",
        "unique.sort()\n",
        "for i, u in enumerate(unique):\n",
        "  df_test.insert(insert_loc+i+1, f\"{col}_{u}\", (df_test[col]==u).astype(\"uint8\"))\n",
        "df_test.drop(col, axis=1, inplace=True)\n",
        "df_train = make_dummy(df_train, col, drop=False)"
      ]
    },
    {
      "cell_type": "code",
      "execution_count": null,
      "metadata": {
        "id": "t9tIOu9Y_YHm"
      },
      "outputs": [],
      "source": [
        "number, col = disp_markdown(number)"
      ]
    },
    {
      "cell_type": "code",
      "execution_count": null,
      "metadata": {
        "id": "OW_Za1K-_YHm"
      },
      "outputs": [],
      "source": [
        "print(\"=\"*30,\"value_counts\",\"=\"*30)\n",
        "display(df_train[col].value_counts(dropna=False).head())\n",
        "display(df_test[col].value_counts(dropna=False).head())\n",
        "print(\"=\"*30,\"na\",\"=\"*30)\n",
        "print(\"train:\",df_train[col].isna().sum())\n",
        "print(\"test :\",df_test[col].isna().sum())\n",
        "print(\"=\"*30,\"dtypes\",\"=\"*30)\n",
        "print(df_train[col].dtypes)\n",
        "print(df_test[col].dtypes)"
      ]
    },
    {
      "cell_type": "code",
      "execution_count": null,
      "metadata": {
        "id": "Ryf9B-TT_YHm"
      },
      "outputs": [],
      "source": [
        "print(df_train[col].nunique(), df_test[col].nunique())\n",
        "set(df_test[col]) - set(df_train[col])"
      ]
    },
    {
      "cell_type": "code",
      "execution_count": null,
      "metadata": {
        "id": "VJHm6R9q_YHn"
      },
      "outputs": [],
      "source": [
        "insert_loc = df_test.columns.get_loc(col)\n",
        "unique = df_train_raw[col].unique()\n",
        "unique.sort()\n",
        "for i, u in enumerate(unique):\n",
        "  df_test.insert(insert_loc+i+1, f\"{col}_{u}\", (df_test[col]==u).astype(\"uint8\"))\n",
        "df_test.drop(col, axis=1, inplace=True)\n",
        "df_train = make_dummy(df_train, col, drop=False)"
      ]
    },
    {
      "cell_type": "code",
      "execution_count": null,
      "metadata": {
        "id": "FRO3yKUJ_dUr"
      },
      "outputs": [],
      "source": [
        "number, col = disp_markdown(number)"
      ]
    },
    {
      "cell_type": "code",
      "execution_count": null,
      "metadata": {
        "id": "M0WgS6ir_dUs"
      },
      "outputs": [],
      "source": [
        "assert col.endswith(\"temp\")"
      ]
    },
    {
      "cell_type": "code",
      "execution_count": null,
      "metadata": {
        "id": "ygOcAeWj_dUs"
      },
      "outputs": [],
      "source": [
        "print(\"=\"*30,\"value_counts\",\"=\"*30)\n",
        "display(df_train[col].value_counts(dropna=False).head())\n",
        "display(df_test[col].value_counts(dropna=False).head())\n",
        "print(\"=\"*30,\"na\",\"=\"*30)\n",
        "print(\"train:\",df_train[col].isna().sum())\n",
        "print(\"test :\",df_test[col].isna().sum())\n",
        "print(\"=\"*30,\"dtypes\",\"=\"*30)\n",
        "print(df_train[col].dtypes)\n",
        "print(df_test[col].dtypes)"
      ]
    },
    {
      "cell_type": "code",
      "execution_count": null,
      "metadata": {
        "id": "tbfMgIgJ_dUt"
      },
      "outputs": [],
      "source": [
        "number, col = disp_markdown(number)"
      ]
    },
    {
      "cell_type": "code",
      "execution_count": null,
      "metadata": {
        "id": "i0ccL7SV_dUt"
      },
      "outputs": [],
      "source": [
        "print(\"=\"*30,\"value_counts\",\"=\"*30)\n",
        "display(df_train[col].value_counts(dropna=False).head())\n",
        "display(df_test[col].value_counts(dropna=False).head())\n",
        "print(\"=\"*30,\"na\",\"=\"*30)\n",
        "print(\"train:\",df_train[col].isna().sum())\n",
        "print(\"test :\",df_test[col].isna().sum())\n",
        "print(\"=\"*30,\"dtypes\",\"=\"*30)\n",
        "print(df_train[col].dtypes)\n",
        "print(df_test[col].dtypes)"
      ]
    },
    {
      "cell_type": "code",
      "execution_count": null,
      "metadata": {
        "id": "kGKOLTF4_dUt"
      },
      "outputs": [],
      "source": [
        "number, col = disp_markdown(number)"
      ]
    },
    {
      "cell_type": "code",
      "execution_count": null,
      "metadata": {
        "id": "xTLCdc0P_dUt"
      },
      "outputs": [],
      "source": [
        "print(\"=\"*30,\"value_counts\",\"=\"*30)\n",
        "display(df_train[col].value_counts(dropna=False).head())\n",
        "display(df_test[col].value_counts(dropna=False).head())\n",
        "print(\"=\"*30,\"na\",\"=\"*30)\n",
        "print(\"train:\",df_train[col].isna().sum())\n",
        "print(\"test :\",df_test[col].isna().sum())\n",
        "print(\"=\"*30,\"dtypes\",\"=\"*30)\n",
        "print(df_train[col].dtypes)\n",
        "print(df_test[col].dtypes)"
      ]
    },
    {
      "cell_type": "code",
      "execution_count": null,
      "metadata": {
        "id": "Pp_q1zsK_dUt"
      },
      "outputs": [],
      "source": [
        "HistBox(df_train[col])\n",
        "HistBox(df_test[col])"
      ]
    },
    {
      "cell_type": "code",
      "execution_count": null,
      "metadata": {
        "id": "RFdHexWn_dUu"
      },
      "outputs": [],
      "source": [
        "area_temp_train = df_train.filter(regex=f\"^{area}_temp\")\n",
        "area_temp_test = df_test.filter(regex=f\"^{area}_temp\")\n",
        "fig, ax = plt.subplots(figsize=(15, 5))\n",
        "for col in area_temp_train.columns:\n",
        "  ax.plot(area_temp_train.index.to_timestamp(), area_temp_train[col], alpha=0.3, label=col)\n",
        "fig.legend()\n",
        "plt.show()\n",
        "fig, ax = plt.subplots(figsize=(15, 5))\n",
        "for col in area_temp_test.columns:\n",
        "  ax.plot(area_temp_test.index.to_timestamp(), area_temp_test[col], alpha=0.3, label=col)\n",
        "fig.legend()\n",
        "plt.show()"
      ]
    },
    {
      "cell_type": "code",
      "execution_count": null,
      "metadata": {
        "id": "-2IS2tf3_dUu"
      },
      "outputs": [],
      "source": [
        "number, col = disp_markdown(number)"
      ]
    },
    {
      "cell_type": "code",
      "execution_count": null,
      "metadata": {
        "id": "EYPcpw3g_dUu"
      },
      "outputs": [],
      "source": [
        "print(\"=\"*30,\"value_counts\",\"=\"*30)\n",
        "display(df_train[col].value_counts(dropna=False).head())\n",
        "display(df_test[col].value_counts(dropna=False).head())\n",
        "print(\"=\"*30,\"na\",\"=\"*30)\n",
        "print(\"train:\",df_train[col].isna().sum())\n",
        "print(\"test :\",df_test[col].isna().sum())\n",
        "print(\"=\"*30,\"dtypes\",\"=\"*30)\n",
        "print(df_train[col].dtypes)\n",
        "print(df_test[col].dtypes)"
      ]
    },
    {
      "cell_type": "code",
      "execution_count": null,
      "metadata": {
        "id": "xtM18yl2_dUu"
      },
      "outputs": [],
      "source": [
        "HistBox(df_train[col])\n",
        "HistBox(df_test[col])"
      ]
    },
    {
      "cell_type": "code",
      "execution_count": null,
      "metadata": {
        "id": "mdaaq0K1_dUv"
      },
      "outputs": [],
      "source": [
        "number, col = disp_markdown(number)"
      ]
    },
    {
      "cell_type": "code",
      "execution_count": null,
      "metadata": {
        "id": "AAkvxiWB_dUv"
      },
      "outputs": [],
      "source": [
        "print(\"=\"*30,\"value_counts\",\"=\"*30)\n",
        "display(df_train[col].value_counts(dropna=False).head())\n",
        "display(df_test[col].value_counts(dropna=False).head())\n",
        "print(\"=\"*30,\"na\",\"=\"*30)\n",
        "print(\"train:\",df_train[col].isna().sum())\n",
        "print(\"test :\",df_test[col].isna().sum())\n",
        "print(\"=\"*30,\"dtypes\",\"=\"*30)\n",
        "print(df_train[col].dtypes)\n",
        "print(df_test[col].dtypes)"
      ]
    },
    {
      "cell_type": "code",
      "execution_count": null,
      "metadata": {
        "id": "-XeEwD90_dUv"
      },
      "outputs": [],
      "source": [
        "HistBox(df_train[col])\n",
        "HistBox(df_test[col])"
      ]
    },
    {
      "cell_type": "code",
      "execution_count": null,
      "metadata": {
        "id": "5m2O6Ut5_dUv"
      },
      "outputs": [],
      "source": [
        "temp_col = f\"{area}_temp\"\n",
        "df_train.insert(df_train.columns.get_loc(col)+1, col + \"_absolute\", compute_absolute_humidity(df_train, temp_col, col))\n",
        "df_test.insert(df_test.columns.get_loc(col)+1, col + \"_absolute\", compute_absolute_humidity(df_test, temp_col, col))"
      ]
    },
    {
      "cell_type": "code",
      "execution_count": null,
      "metadata": {
        "id": "HtEteKcR_dUw"
      },
      "outputs": [],
      "source": [
        "number, col = disp_markdown(number)"
      ]
    },
    {
      "cell_type": "code",
      "execution_count": null,
      "metadata": {
        "id": "I_oF1-xd_dUw"
      },
      "outputs": [],
      "source": [
        "print(\"=\"*30,\"value_counts\",\"=\"*30)\n",
        "display(df_train[col].value_counts(dropna=False).head())\n",
        "display(df_test[col].value_counts(dropna=False).head())\n",
        "print(\"=\"*30,\"na\",\"=\"*30)\n",
        "print(\"train:\",df_train[col].isna().sum())\n",
        "print(\"test :\",df_test[col].isna().sum())\n",
        "print(\"=\"*30,\"dtypes\",\"=\"*30)\n",
        "print(df_train[col].dtypes)\n",
        "print(df_test[col].dtypes)"
      ]
    },
    {
      "cell_type": "code",
      "execution_count": null,
      "metadata": {
        "id": "BI5rNLxG_dUw"
      },
      "outputs": [],
      "source": [
        "HistBox(df_train[col])\n",
        "HistBox(df_test[col])"
      ]
    },
    {
      "cell_type": "code",
      "execution_count": null,
      "metadata": {
        "id": "WnCFCkm8_dUw"
      },
      "outputs": [],
      "source": [
        "plot_series(df_train[col], df_test[col])\n",
        "plt.show()"
      ]
    },
    {
      "cell_type": "code",
      "execution_count": null,
      "metadata": {
        "id": "Rs73SIrQ_dUw"
      },
      "outputs": [],
      "source": [
        "number, col = disp_markdown(number)"
      ]
    },
    {
      "cell_type": "code",
      "execution_count": null,
      "metadata": {
        "id": "HxuLKpEO_dUx"
      },
      "outputs": [],
      "source": [
        "print(\"=\"*30,\"value_counts\",\"=\"*30)\n",
        "display(df_train[col].value_counts(dropna=False).head())\n",
        "display(df_test[col].value_counts(dropna=False).head())\n",
        "print(\"=\"*30,\"na\",\"=\"*30)\n",
        "print(\"train:\",df_train[col].isna().sum())\n",
        "print(\"test :\",df_test[col].isna().sum())\n",
        "print(\"=\"*30,\"dtypes\",\"=\"*30)\n",
        "print(df_train[col].dtypes)\n",
        "print(df_test[col].dtypes)"
      ]
    },
    {
      "cell_type": "code",
      "execution_count": null,
      "metadata": {
        "id": "sl4q_UP8_dUx"
      },
      "outputs": [],
      "source": [
        "HistBox(df_train[col])\n",
        "HistBox(df_test[col])"
      ]
    },
    {
      "cell_type": "code",
      "execution_count": null,
      "metadata": {
        "id": "UjOhh-QR_dUx"
      },
      "outputs": [],
      "source": [
        "# 角度をサインに変換する\n",
        "sin_train = np.sin(df_train[col] / 360 * 2 *np.pi)\n",
        "sin_test = np.sin(df_test[col] / 360 * 2 *np.pi)"
      ]
    },
    {
      "cell_type": "code",
      "execution_count": null,
      "metadata": {
        "id": "0Z08EPsd_dUx"
      },
      "outputs": [],
      "source": [
        "HistBox(sin_train)\n",
        "HistBox(sin_test)"
      ]
    },
    {
      "cell_type": "code",
      "execution_count": null,
      "metadata": {
        "id": "Bh6j6zZJ_dUy"
      },
      "outputs": [],
      "source": [
        "plot_series(sin_train, sin_test)\n",
        "plt.show()"
      ]
    },
    {
      "cell_type": "code",
      "execution_count": null,
      "metadata": {
        "id": "sMX6RPpg_dUy"
      },
      "outputs": [],
      "source": [
        "df_train[col] = sin_train\n",
        "df_test[col] = sin_test\n",
        "df_train.rename(columns={col:\"sin_\"+col}, inplace=True)\n",
        "df_test.rename(columns={col:\"sin_\"+col}, inplace=True)"
      ]
    },
    {
      "cell_type": "code",
      "execution_count": null,
      "metadata": {
        "id": "tMhhhdBd_dUy"
      },
      "outputs": [],
      "source": [
        "number, col = disp_markdown(number)"
      ]
    },
    {
      "cell_type": "code",
      "execution_count": null,
      "metadata": {
        "id": "F31aYhtp_dUy"
      },
      "outputs": [],
      "source": [
        "print(\"=\"*30,\"value_counts\",\"=\"*30)\n",
        "display(df_train[col].value_counts(dropna=False).head())\n",
        "display(df_test[col].value_counts(dropna=False).head())\n",
        "print(\"=\"*30,\"na\",\"=\"*30)\n",
        "print(\"train:\",df_train[col].isna().sum())\n",
        "print(\"test :\",df_test[col].isna().sum())\n",
        "print(\"=\"*30,\"dtypes\",\"=\"*30)\n",
        "print(df_train[col].dtypes)\n",
        "print(df_test[col].dtypes)"
      ]
    },
    {
      "cell_type": "code",
      "execution_count": null,
      "metadata": {
        "id": "uFkdlClU_dUy"
      },
      "outputs": [],
      "source": [
        "HistBox(df_train[col])\n",
        "HistBox(df_test[col])"
      ]
    },
    {
      "cell_type": "code",
      "execution_count": null,
      "metadata": {
        "id": "g8r-ORqP_dUz"
      },
      "outputs": [],
      "source": [
        "plot_series(df_train[col], df_test[col])\n",
        "plt.show()"
      ]
    },
    {
      "cell_type": "code",
      "execution_count": null,
      "metadata": {
        "id": "kFU8scy9_dUz"
      },
      "outputs": [],
      "source": [
        "number, col = disp_markdown(number)"
      ]
    },
    {
      "cell_type": "code",
      "execution_count": null,
      "metadata": {
        "id": "Qda81-b2_dU1"
      },
      "outputs": [],
      "source": [
        "print(\"=\"*30,\"value_counts\",\"=\"*30)\n",
        "display(df_train[col].value_counts(dropna=False).head())\n",
        "display(df_test[col].value_counts(dropna=False).head())\n",
        "print(\"=\"*30,\"na\",\"=\"*30)\n",
        "print(\"train:\",df_train[col].isna().sum())\n",
        "print(\"test :\",df_test[col].isna().sum())\n",
        "print(\"=\"*30,\"dtypes\",\"=\"*30)\n",
        "print(df_train[col].dtypes)\n",
        "print(df_test[col].dtypes)"
      ]
    },
    {
      "cell_type": "code",
      "execution_count": null,
      "metadata": {
        "id": "VtygbJ4K_dU1"
      },
      "outputs": [],
      "source": [
        "HistBox(df_train[col])\n",
        "HistBox(df_test[col])"
      ]
    },
    {
      "cell_type": "code",
      "execution_count": null,
      "metadata": {
        "id": "aS5iOUhY_dU1"
      },
      "outputs": [],
      "source": [
        "plot_series(df_train[col], df_test[col])\n",
        "plt.show()"
      ]
    },
    {
      "cell_type": "code",
      "execution_count": null,
      "metadata": {
        "id": "qPKo6d7P_dU2"
      },
      "outputs": [],
      "source": [
        "number, col = disp_markdown(number)"
      ]
    },
    {
      "cell_type": "code",
      "execution_count": null,
      "metadata": {
        "colab": {
          "background_save": true
        },
        "id": "8K8rgYIe_dU2"
      },
      "outputs": [],
      "source": [
        "print(\"=\"*30,\"value_counts\",\"=\"*30)\n",
        "display(df_train[col].value_counts(dropna=False).head())\n",
        "display(df_test[col].value_counts(dropna=False).head())\n",
        "print(\"=\"*30,\"na\",\"=\"*30)\n",
        "print(\"train:\",df_train[col].isna().sum())\n",
        "print(\"test :\",df_test[col].isna().sum())\n",
        "print(\"=\"*30,\"dtypes\",\"=\"*30)\n",
        "print(df_train[col].dtypes)\n",
        "print(df_test[col].dtypes)"
      ]
    },
    {
      "cell_type": "code",
      "execution_count": null,
      "metadata": {
        "colab": {
          "background_save": true
        },
        "id": "a87VGEq1_dU2"
      },
      "outputs": [],
      "source": [
        "HistBox(df_train[col])\n",
        "HistBox(df_test[col])"
      ]
    },
    {
      "cell_type": "code",
      "execution_count": null,
      "metadata": {
        "colab": {
          "background_save": true
        },
        "id": "ek_FsYev_dU2"
      },
      "outputs": [],
      "source": [
        "plot_series(df_train[col], df_test[col])\n",
        "plt.show()"
      ]
    },
    {
      "cell_type": "code",
      "execution_count": null,
      "metadata": {
        "colab": {
          "background_save": true
        },
        "id": "bOrXjYqf_dU2"
      },
      "outputs": [],
      "source": [
        "number, col = disp_markdown(number)"
      ]
    },
    {
      "cell_type": "code",
      "execution_count": null,
      "metadata": {
        "colab": {
          "background_save": true
        },
        "id": "ojgz6O2u_dU3"
      },
      "outputs": [],
      "source": [
        "print(\"=\"*30,\"value_counts\",\"=\"*30)\n",
        "display(df_train[col].value_counts(dropna=False).head())\n",
        "display(df_test[col].value_counts(dropna=False).head())\n",
        "print(\"=\"*30,\"na\",\"=\"*30)\n",
        "print(\"train:\",df_train[col].isna().sum())\n",
        "print(\"test :\",df_test[col].isna().sum())\n",
        "print(\"=\"*30,\"dtypes\",\"=\"*30)\n",
        "print(df_train[col].dtypes)\n",
        "print(df_test[col].dtypes)"
      ]
    },
    {
      "cell_type": "code",
      "execution_count": null,
      "metadata": {
        "colab": {
          "background_save": true
        },
        "id": "hB96ad0B_dU3"
      },
      "outputs": [],
      "source": [
        "HistBox(df_train[col])\n",
        "HistBox(df_test[col])"
      ]
    },
    {
      "cell_type": "code",
      "execution_count": null,
      "metadata": {
        "id": "kxV0kV5G_dU3"
      },
      "outputs": [],
      "source": [
        "plot_series(df_train[col], df_test[col])\n",
        "plt.show()"
      ]
    },
    {
      "cell_type": "code",
      "execution_count": null,
      "metadata": {
        "colab": {
          "background_save": true
        },
        "id": "WVuOtkQJ_dU3"
      },
      "outputs": [],
      "source": [
        "number, col = disp_markdown(number)"
      ]
    },
    {
      "cell_type": "code",
      "execution_count": null,
      "metadata": {
        "id": "nhltq7Wb_dU4"
      },
      "outputs": [],
      "source": [
        "print(\"=\"*30,\"value_counts\",\"=\"*30)\n",
        "display(df_train[col].value_counts(dropna=False).head())\n",
        "display(df_test[col].value_counts(dropna=False).head())\n",
        "print(\"=\"*30,\"na\",\"=\"*30)\n",
        "print(\"train:\",df_train[col].isna().sum())\n",
        "print(\"test :\",df_test[col].isna().sum())\n",
        "print(\"=\"*30,\"dtypes\",\"=\"*30)\n",
        "print(df_train[col].dtypes)\n",
        "print(df_test[col].dtypes)"
      ]
    },
    {
      "cell_type": "code",
      "execution_count": null,
      "metadata": {
        "id": "Lf8lZG0x_dU4"
      },
      "outputs": [],
      "source": [
        "HistBox(df_train[col])\n",
        "HistBox(df_test[col])"
      ]
    },
    {
      "cell_type": "code",
      "execution_count": null,
      "metadata": {
        "id": "NBKA6AQQ_dU4"
      },
      "outputs": [],
      "source": [
        "set(df_test[col]) - set(df_train[col])"
      ]
    },
    {
      "cell_type": "code",
      "execution_count": null,
      "metadata": {
        "id": "4kCqUO6Z_dU4"
      },
      "outputs": [],
      "source": [
        "insert_loc = df_test.columns.get_loc(col)\n",
        "unique = df_train_raw[col].unique()\n",
        "unique.sort()\n",
        "for i, u in enumerate(unique):\n",
        "  df_test.insert(insert_loc+i+1, f\"{col}_{u}\", (df_test[col]==u).astype(\"uint8\"))\n",
        "df_test.drop(col, axis=1, inplace=True)\n",
        "df_train = make_dummy(df_train, col, drop=False)"
      ]
    },
    {
      "cell_type": "code",
      "execution_count": null,
      "metadata": {
        "id": "mpDEBLoK_dU5"
      },
      "outputs": [],
      "source": [
        "number, col = disp_markdown(number)"
      ]
    },
    {
      "cell_type": "code",
      "execution_count": null,
      "metadata": {
        "id": "REjDMZr-_dU5"
      },
      "outputs": [],
      "source": [
        "print(\"=\"*30,\"value_counts\",\"=\"*30)\n",
        "display(df_train[col].value_counts(dropna=False).head())\n",
        "display(df_test[col].value_counts(dropna=False).head())\n",
        "print(\"=\"*30,\"na\",\"=\"*30)\n",
        "print(\"train:\",df_train[col].isna().sum())\n",
        "print(\"test :\",df_test[col].isna().sum())\n",
        "print(\"=\"*30,\"dtypes\",\"=\"*30)\n",
        "print(df_train[col].dtypes)\n",
        "print(df_test[col].dtypes)"
      ]
    },
    {
      "cell_type": "code",
      "execution_count": null,
      "metadata": {
        "id": "Io8P2oaT_dU5"
      },
      "outputs": [],
      "source": [
        "print(df_train[col].nunique(), df_test[col].nunique())\n",
        "set(df_test[col]) - set(df_train[col])"
      ]
    },
    {
      "cell_type": "code",
      "execution_count": null,
      "metadata": {
        "colab": {
          "background_save": true
        },
        "id": "ju8bt1lu_dU5"
      },
      "outputs": [],
      "source": [
        "insert_loc = df_test.columns.get_loc(col)\n",
        "unique = df_train_raw[col].unique()\n",
        "unique.sort()\n",
        "for i, u in enumerate(unique):\n",
        "  df_test.insert(insert_loc+i+1, f\"{col}_{u}\", (df_test[col]==u).astype(\"uint8\"))\n",
        "df_test.drop(col, axis=1, inplace=True)\n",
        "df_train = make_dummy(df_train, col, drop=False)"
      ]
    },
    {
      "cell_type": "code",
      "execution_count": null,
      "metadata": {
        "colab": {
          "background_save": true
        },
        "id": "pddXJa5x_dU5"
      },
      "outputs": [],
      "source": [
        "number, col = disp_markdown(number)"
      ]
    },
    {
      "cell_type": "code",
      "execution_count": null,
      "metadata": {
        "colab": {
          "background_save": true
        },
        "id": "qP7d57kO_dU6"
      },
      "outputs": [],
      "source": [
        "print(\"=\"*30,\"value_counts\",\"=\"*30)\n",
        "display(df_train[col].value_counts(dropna=False).head())\n",
        "display(df_test[col].value_counts(dropna=False).head())\n",
        "print(\"=\"*30,\"na\",\"=\"*30)\n",
        "print(\"train:\",df_train[col].isna().sum())\n",
        "print(\"test :\",df_test[col].isna().sum())\n",
        "print(\"=\"*30,\"dtypes\",\"=\"*30)\n",
        "print(df_train[col].dtypes)\n",
        "print(df_test[col].dtypes)"
      ]
    },
    {
      "cell_type": "code",
      "execution_count": null,
      "metadata": {
        "colab": {
          "background_save": true
        },
        "id": "XYl7ebZI_dU6"
      },
      "outputs": [],
      "source": [
        "print(df_train[col].nunique(), df_test[col].nunique())\n",
        "set(df_test[col]) - set(df_train[col])"
      ]
    },
    {
      "cell_type": "code",
      "execution_count": null,
      "metadata": {
        "colab": {
          "background_save": true
        },
        "id": "hoRRwKwI_dU6"
      },
      "outputs": [],
      "source": [
        "insert_loc = df_test.columns.get_loc(col)\n",
        "unique = df_train_raw[col].unique()\n",
        "unique.sort()\n",
        "for i, u in enumerate(unique):\n",
        "  df_test.insert(insert_loc+i+1, f\"{col}_{u}\", (df_test[col]==u).astype(\"uint8\"))\n",
        "df_test.drop(col, axis=1, inplace=True)\n",
        "df_train = make_dummy(df_train, col, drop=False)"
      ]
    },
    {
      "cell_type": "code",
      "execution_count": null,
      "metadata": {
        "colab": {
          "background_save": true
        },
        "id": "8dswd5hn_dU6"
      },
      "outputs": [],
      "source": [
        "number, col = disp_markdown(number)"
      ]
    },
    {
      "cell_type": "code",
      "execution_count": null,
      "metadata": {
        "colab": {
          "background_save": true
        },
        "id": "jU_B12ly_dU7"
      },
      "outputs": [],
      "source": [
        "print(\"=\"*30,\"value_counts\",\"=\"*30)\n",
        "display(df_train[col].value_counts(dropna=False).head())\n",
        "display(df_test[col].value_counts(dropna=False).head())\n",
        "print(\"=\"*30,\"na\",\"=\"*30)\n",
        "print(\"train:\",df_train[col].isna().sum())\n",
        "print(\"test :\",df_test[col].isna().sum())\n",
        "print(\"=\"*30,\"dtypes\",\"=\"*30)\n",
        "print(df_train[col].dtypes)\n",
        "print(df_test[col].dtypes)"
      ]
    },
    {
      "cell_type": "code",
      "execution_count": null,
      "metadata": {
        "colab": {
          "background_save": true
        },
        "id": "PbqM9OCH_dU7"
      },
      "outputs": [],
      "source": [
        "print(df_train[col].nunique(), df_test[col].nunique())\n",
        "set(df_test[col]) - set(df_train[col])"
      ]
    },
    {
      "cell_type": "code",
      "execution_count": null,
      "metadata": {
        "colab": {
          "background_save": true
        },
        "id": "Ltdj3p1y_dU7"
      },
      "outputs": [],
      "source": [
        "insert_loc = df_test.columns.get_loc(col)\n",
        "unique = df_train_raw[col].unique()\n",
        "unique.sort()\n",
        "for i, u in enumerate(unique):\n",
        "  df_test.insert(insert_loc+i+1, f\"{col}_{u}\", (df_test[col]==u).astype(\"uint8\"))\n",
        "df_test.drop(col, axis=1, inplace=True)\n",
        "df_train = make_dummy(df_train, col, drop=False)"
      ]
    },
    {
      "cell_type": "code",
      "execution_count": null,
      "metadata": {
        "colab": {
          "background_save": true
        },
        "id": "E-nOBQ_P_ePz"
      },
      "outputs": [],
      "source": [
        "number, col = disp_markdown(number)"
      ]
    },
    {
      "cell_type": "code",
      "execution_count": null,
      "metadata": {
        "colab": {
          "background_save": true
        },
        "id": "j_y8uWJU_eP0"
      },
      "outputs": [],
      "source": [
        "assert col.endswith(\"temp\")"
      ]
    },
    {
      "cell_type": "code",
      "execution_count": null,
      "metadata": {
        "colab": {
          "background_save": true
        },
        "id": "mtd1EeP9_eP0"
      },
      "outputs": [],
      "source": [
        "print(\"=\"*30,\"value_counts\",\"=\"*30)\n",
        "display(df_train[col].value_counts(dropna=False).head())\n",
        "display(df_test[col].value_counts(dropna=False).head())\n",
        "print(\"=\"*30,\"na\",\"=\"*30)\n",
        "print(\"train:\",df_train[col].isna().sum())\n",
        "print(\"test :\",df_test[col].isna().sum())\n",
        "print(\"=\"*30,\"dtypes\",\"=\"*30)\n",
        "print(df_train[col].dtypes)\n",
        "print(df_test[col].dtypes)"
      ]
    },
    {
      "cell_type": "code",
      "execution_count": null,
      "metadata": {
        "colab": {
          "background_save": true
        },
        "id": "jL3DETK2_eP0"
      },
      "outputs": [],
      "source": [
        "number, col = disp_markdown(number)"
      ]
    },
    {
      "cell_type": "code",
      "execution_count": null,
      "metadata": {
        "colab": {
          "background_save": true
        },
        "id": "5JOh8Eko_eP1"
      },
      "outputs": [],
      "source": [
        "print(\"=\"*30,\"value_counts\",\"=\"*30)\n",
        "display(df_train[col].value_counts(dropna=False).head())\n",
        "display(df_test[col].value_counts(dropna=False).head())\n",
        "print(\"=\"*30,\"na\",\"=\"*30)\n",
        "print(\"train:\",df_train[col].isna().sum())\n",
        "print(\"test :\",df_test[col].isna().sum())\n",
        "print(\"=\"*30,\"dtypes\",\"=\"*30)\n",
        "print(df_train[col].dtypes)\n",
        "print(df_test[col].dtypes)"
      ]
    },
    {
      "cell_type": "code",
      "execution_count": null,
      "metadata": {
        "colab": {
          "background_save": true
        },
        "id": "-45OBjuH_eP1"
      },
      "outputs": [],
      "source": [
        "number, col = disp_markdown(number)"
      ]
    },
    {
      "cell_type": "code",
      "execution_count": null,
      "metadata": {
        "colab": {
          "background_save": true
        },
        "id": "EsnTOUKx_eP1"
      },
      "outputs": [],
      "source": [
        "print(\"=\"*30,\"value_counts\",\"=\"*30)\n",
        "display(df_train[col].value_counts(dropna=False).head())\n",
        "display(df_test[col].value_counts(dropna=False).head())\n",
        "print(\"=\"*30,\"na\",\"=\"*30)\n",
        "print(\"train:\",df_train[col].isna().sum())\n",
        "print(\"test :\",df_test[col].isna().sum())\n",
        "print(\"=\"*30,\"dtypes\",\"=\"*30)\n",
        "print(df_train[col].dtypes)\n",
        "print(df_test[col].dtypes)"
      ]
    },
    {
      "cell_type": "code",
      "execution_count": null,
      "metadata": {
        "colab": {
          "background_save": true
        },
        "id": "Ev-OMI-n_eP1"
      },
      "outputs": [],
      "source": [
        "HistBox(df_train[col])\n",
        "HistBox(df_test[col])"
      ]
    },
    {
      "cell_type": "code",
      "execution_count": null,
      "metadata": {
        "colab": {
          "background_save": true
        },
        "id": "w4yVorYS_eP1"
      },
      "outputs": [],
      "source": [
        "area_temp_train = df_train.filter(regex=f\"^{area}_temp\")\n",
        "area_temp_test = df_test.filter(regex=f\"^{area}_temp\")\n",
        "fig, ax = plt.subplots(figsize=(15, 5))\n",
        "for col in area_temp_train.columns:\n",
        "  ax.plot(area_temp_train.index.to_timestamp(), area_temp_train[col], alpha=0.3, label=col)\n",
        "fig.legend()\n",
        "plt.show()\n",
        "fig, ax = plt.subplots(figsize=(15, 5))\n",
        "for col in area_temp_test.columns:\n",
        "  ax.plot(area_temp_test.index.to_timestamp(), area_temp_test[col], alpha=0.3, label=col)\n",
        "fig.legend()\n",
        "plt.show()"
      ]
    },
    {
      "cell_type": "code",
      "execution_count": null,
      "metadata": {
        "colab": {
          "background_save": true
        },
        "id": "niu4ecRu_eP2"
      },
      "outputs": [],
      "source": [
        "number, col = disp_markdown(number)"
      ]
    },
    {
      "cell_type": "code",
      "execution_count": null,
      "metadata": {
        "colab": {
          "background_save": true
        },
        "id": "uo5UXgF-_eP2"
      },
      "outputs": [],
      "source": [
        "print(\"=\"*30,\"value_counts\",\"=\"*30)\n",
        "display(df_train[col].value_counts(dropna=False).head())\n",
        "display(df_test[col].value_counts(dropna=False).head())\n",
        "print(\"=\"*30,\"na\",\"=\"*30)\n",
        "print(\"train:\",df_train[col].isna().sum())\n",
        "print(\"test :\",df_test[col].isna().sum())\n",
        "print(\"=\"*30,\"dtypes\",\"=\"*30)\n",
        "print(df_train[col].dtypes)\n",
        "print(df_test[col].dtypes)"
      ]
    },
    {
      "cell_type": "code",
      "execution_count": null,
      "metadata": {
        "colab": {
          "background_save": true
        },
        "id": "5B6RSbvA_eP2"
      },
      "outputs": [],
      "source": [
        "HistBox(df_train[col])\n",
        "HistBox(df_test[col])"
      ]
    },
    {
      "cell_type": "code",
      "execution_count": null,
      "metadata": {
        "colab": {
          "background_save": true
        },
        "id": "k6qa_vr8_eP2"
      },
      "outputs": [],
      "source": [
        "number, col = disp_markdown(number)"
      ]
    },
    {
      "cell_type": "code",
      "execution_count": null,
      "metadata": {
        "colab": {
          "background_save": true
        },
        "id": "Q7PRHAPR_eP2"
      },
      "outputs": [],
      "source": [
        "print(\"=\"*30,\"value_counts\",\"=\"*30)\n",
        "display(df_train[col].value_counts(dropna=False).head())\n",
        "display(df_test[col].value_counts(dropna=False).head())\n",
        "print(\"=\"*30,\"na\",\"=\"*30)\n",
        "print(\"train:\",df_train[col].isna().sum())\n",
        "print(\"test :\",df_test[col].isna().sum())\n",
        "print(\"=\"*30,\"dtypes\",\"=\"*30)\n",
        "print(df_train[col].dtypes)\n",
        "print(df_test[col].dtypes)"
      ]
    },
    {
      "cell_type": "code",
      "execution_count": null,
      "metadata": {
        "colab": {
          "background_save": true
        },
        "id": "Rban8gP4_eP3"
      },
      "outputs": [],
      "source": [
        "HistBox(df_train[col])\n",
        "HistBox(df_test[col])"
      ]
    },
    {
      "cell_type": "code",
      "execution_count": null,
      "metadata": {
        "colab": {
          "background_save": true
        },
        "id": "1uvJPUsE_eP3"
      },
      "outputs": [],
      "source": [
        "temp_col = f\"{area}_temp\"\n",
        "df_train.insert(df_train.columns.get_loc(col)+1, col + \"_absolute\", compute_absolute_humidity(df_train, temp_col, col))\n",
        "df_test.insert(df_test.columns.get_loc(col)+1, col + \"_absolute\", compute_absolute_humidity(df_test, temp_col, col))"
      ]
    },
    {
      "cell_type": "code",
      "execution_count": null,
      "metadata": {
        "colab": {
          "background_save": true
        },
        "id": "OwnR5Thb_eP3"
      },
      "outputs": [],
      "source": [
        "number, col = disp_markdown(number)"
      ]
    },
    {
      "cell_type": "code",
      "execution_count": null,
      "metadata": {
        "colab": {
          "background_save": true
        },
        "id": "gwcKtEwg_eP3"
      },
      "outputs": [],
      "source": [
        "print(\"=\"*30,\"value_counts\",\"=\"*30)\n",
        "display(df_train[col].value_counts(dropna=False).head())\n",
        "display(df_test[col].value_counts(dropna=False).head())\n",
        "print(\"=\"*30,\"na\",\"=\"*30)\n",
        "print(\"train:\",df_train[col].isna().sum())\n",
        "print(\"test :\",df_test[col].isna().sum())\n",
        "print(\"=\"*30,\"dtypes\",\"=\"*30)\n",
        "print(df_train[col].dtypes)\n",
        "print(df_test[col].dtypes)"
      ]
    },
    {
      "cell_type": "code",
      "execution_count": null,
      "metadata": {
        "colab": {
          "background_save": true
        },
        "id": "UvoN93Ia_eP4"
      },
      "outputs": [],
      "source": [
        "HistBox(df_train[col])\n",
        "HistBox(df_test[col])"
      ]
    },
    {
      "cell_type": "code",
      "execution_count": null,
      "metadata": {
        "colab": {
          "background_save": true
        },
        "id": "5xpq7CgJ_eP4"
      },
      "outputs": [],
      "source": [
        "plot_series(df_train[col], df_test[col])\n",
        "plt.show()"
      ]
    },
    {
      "cell_type": "code",
      "execution_count": null,
      "metadata": {
        "colab": {
          "background_save": true
        },
        "id": "eOdYlO8H_eP4"
      },
      "outputs": [],
      "source": [
        "number, col = disp_markdown(number)"
      ]
    },
    {
      "cell_type": "code",
      "execution_count": null,
      "metadata": {
        "colab": {
          "background_save": true
        },
        "id": "Kuj7Swd2_eP4"
      },
      "outputs": [],
      "source": [
        "print(\"=\"*30,\"value_counts\",\"=\"*30)\n",
        "display(df_train[col].value_counts(dropna=False).head())\n",
        "display(df_test[col].value_counts(dropna=False).head())\n",
        "print(\"=\"*30,\"na\",\"=\"*30)\n",
        "print(\"train:\",df_train[col].isna().sum())\n",
        "print(\"test :\",df_test[col].isna().sum())\n",
        "print(\"=\"*30,\"dtypes\",\"=\"*30)\n",
        "print(df_train[col].dtypes)\n",
        "print(df_test[col].dtypes)"
      ]
    },
    {
      "cell_type": "code",
      "execution_count": null,
      "metadata": {
        "colab": {
          "background_save": true
        },
        "id": "dxQ3V-8w_eP4"
      },
      "outputs": [],
      "source": [
        "HistBox(df_train[col])\n",
        "HistBox(df_test[col])"
      ]
    },
    {
      "cell_type": "code",
      "execution_count": null,
      "metadata": {
        "colab": {
          "background_save": true
        },
        "id": "yCyfnoKe_eP5"
      },
      "outputs": [],
      "source": [
        "# 角度をサインに変換する\n",
        "sin_train = np.sin(df_train[col] / 360 * 2 *np.pi)\n",
        "sin_test = np.sin(df_test[col] / 360 * 2 *np.pi)"
      ]
    },
    {
      "cell_type": "code",
      "execution_count": null,
      "metadata": {
        "colab": {
          "background_save": true
        },
        "id": "Oi7pg6Sr_eP5"
      },
      "outputs": [],
      "source": [
        "HistBox(sin_train)\n",
        "HistBox(sin_test)"
      ]
    },
    {
      "cell_type": "code",
      "execution_count": null,
      "metadata": {
        "colab": {
          "background_save": true
        },
        "id": "O81z41ph_eP5"
      },
      "outputs": [],
      "source": [
        "plot_series(sin_train, sin_test)\n",
        "plt.show()"
      ]
    },
    {
      "cell_type": "code",
      "execution_count": null,
      "metadata": {
        "colab": {
          "background_save": true
        },
        "id": "nHIf-UNh_eP5"
      },
      "outputs": [],
      "source": [
        "df_train[col] = sin_train\n",
        "df_test[col] = sin_test\n",
        "df_train.rename(columns={col:\"sin_\"+col}, inplace=True)\n",
        "df_test.rename(columns={col:\"sin_\"+col}, inplace=True)"
      ]
    },
    {
      "cell_type": "code",
      "execution_count": null,
      "metadata": {
        "colab": {
          "background_save": true
        },
        "id": "1vVvRfJQ_eP5"
      },
      "outputs": [],
      "source": [
        "number, col = disp_markdown(number)"
      ]
    },
    {
      "cell_type": "code",
      "execution_count": null,
      "metadata": {
        "colab": {
          "background_save": true
        },
        "id": "RLqFV1gC_eP6"
      },
      "outputs": [],
      "source": [
        "print(\"=\"*30,\"value_counts\",\"=\"*30)\n",
        "display(df_train[col].value_counts(dropna=False).head())\n",
        "display(df_test[col].value_counts(dropna=False).head())\n",
        "print(\"=\"*30,\"na\",\"=\"*30)\n",
        "print(\"train:\",df_train[col].isna().sum())\n",
        "print(\"test :\",df_test[col].isna().sum())\n",
        "print(\"=\"*30,\"dtypes\",\"=\"*30)\n",
        "print(df_train[col].dtypes)\n",
        "print(df_test[col].dtypes)"
      ]
    },
    {
      "cell_type": "code",
      "execution_count": null,
      "metadata": {
        "colab": {
          "background_save": true
        },
        "id": "W9yZLZal_eP6"
      },
      "outputs": [],
      "source": [
        "HistBox(df_train[col])\n",
        "HistBox(df_test[col])"
      ]
    },
    {
      "cell_type": "code",
      "execution_count": null,
      "metadata": {
        "colab": {
          "background_save": true
        },
        "id": "9zTAH3i1_eP6"
      },
      "outputs": [],
      "source": [
        "plot_series(df_train[col], df_test[col])\n",
        "plt.show()"
      ]
    },
    {
      "cell_type": "code",
      "execution_count": null,
      "metadata": {
        "colab": {
          "background_save": true
        },
        "id": "Vf8rZSAr_eP6"
      },
      "outputs": [],
      "source": [
        "number, col = disp_markdown(number)"
      ]
    },
    {
      "cell_type": "code",
      "execution_count": null,
      "metadata": {
        "colab": {
          "background_save": true
        },
        "id": "noGiuiYZ_eP7"
      },
      "outputs": [],
      "source": [
        "print(\"=\"*30,\"value_counts\",\"=\"*30)\n",
        "display(df_train[col].value_counts(dropna=False).head())\n",
        "display(df_test[col].value_counts(dropna=False).head())\n",
        "print(\"=\"*30,\"na\",\"=\"*30)\n",
        "print(\"train:\",df_train[col].isna().sum())\n",
        "print(\"test :\",df_test[col].isna().sum())\n",
        "print(\"=\"*30,\"dtypes\",\"=\"*30)\n",
        "print(df_train[col].dtypes)\n",
        "print(df_test[col].dtypes)"
      ]
    },
    {
      "cell_type": "code",
      "execution_count": null,
      "metadata": {
        "colab": {
          "background_save": true
        },
        "id": "8nXsGJ7W_eP7"
      },
      "outputs": [],
      "source": [
        "HistBox(df_train[col])\n",
        "HistBox(df_test[col])"
      ]
    },
    {
      "cell_type": "code",
      "execution_count": null,
      "metadata": {
        "colab": {
          "background_save": true
        },
        "id": "8RRJwZOm_eP7"
      },
      "outputs": [],
      "source": [
        "plot_series(df_train[col], df_test[col])\n",
        "plt.show()"
      ]
    },
    {
      "cell_type": "code",
      "execution_count": null,
      "metadata": {
        "colab": {
          "background_save": true
        },
        "id": "QcoqwSgd_eP7"
      },
      "outputs": [],
      "source": [
        "number, col = disp_markdown(number)"
      ]
    },
    {
      "cell_type": "code",
      "execution_count": null,
      "metadata": {
        "colab": {
          "background_save": true
        },
        "id": "zAwX0KXm_eP7"
      },
      "outputs": [],
      "source": [
        "print(\"=\"*30,\"value_counts\",\"=\"*30)\n",
        "display(df_train[col].value_counts(dropna=False).head())\n",
        "display(df_test[col].value_counts(dropna=False).head())\n",
        "print(\"=\"*30,\"na\",\"=\"*30)\n",
        "print(\"train:\",df_train[col].isna().sum())\n",
        "print(\"test :\",df_test[col].isna().sum())\n",
        "print(\"=\"*30,\"dtypes\",\"=\"*30)\n",
        "print(df_train[col].dtypes)\n",
        "print(df_test[col].dtypes)"
      ]
    },
    {
      "cell_type": "code",
      "execution_count": null,
      "metadata": {
        "colab": {
          "background_save": true
        },
        "id": "w13GYZse_eP8"
      },
      "outputs": [],
      "source": [
        "HistBox(df_train[col])\n",
        "HistBox(df_test[col])"
      ]
    },
    {
      "cell_type": "code",
      "execution_count": null,
      "metadata": {
        "colab": {
          "background_save": true
        },
        "id": "uuGGe2zl_eP8"
      },
      "outputs": [],
      "source": [
        "plot_series(df_train[col], df_test[col])\n",
        "plt.show()"
      ]
    },
    {
      "cell_type": "code",
      "execution_count": null,
      "metadata": {
        "colab": {
          "background_save": true
        },
        "id": "xKtRd1On_eP8"
      },
      "outputs": [],
      "source": [
        "number, col = disp_markdown(number)"
      ]
    },
    {
      "cell_type": "code",
      "execution_count": null,
      "metadata": {
        "colab": {
          "background_save": true
        },
        "id": "Vvkda0Sr_eP8"
      },
      "outputs": [],
      "source": [
        "print(\"=\"*30,\"value_counts\",\"=\"*30)\n",
        "display(df_train[col].value_counts(dropna=False).head())\n",
        "display(df_test[col].value_counts(dropna=False).head())\n",
        "print(\"=\"*30,\"na\",\"=\"*30)\n",
        "print(\"train:\",df_train[col].isna().sum())\n",
        "print(\"test :\",df_test[col].isna().sum())\n",
        "print(\"=\"*30,\"dtypes\",\"=\"*30)\n",
        "print(df_train[col].dtypes)\n",
        "print(df_test[col].dtypes)"
      ]
    },
    {
      "cell_type": "code",
      "execution_count": null,
      "metadata": {
        "colab": {
          "background_save": true
        },
        "id": "asE7ZE5g_eP8"
      },
      "outputs": [],
      "source": [
        "HistBox(df_train[col])\n",
        "HistBox(df_test[col])"
      ]
    },
    {
      "cell_type": "code",
      "execution_count": null,
      "metadata": {
        "colab": {
          "background_save": true
        },
        "id": "-YDMU0tV_eP9"
      },
      "outputs": [],
      "source": [
        "plot_series(df_train[col], df_test[col])\n",
        "plt.show()"
      ]
    },
    {
      "cell_type": "code",
      "execution_count": null,
      "metadata": {
        "colab": {
          "background_save": true
        },
        "id": "TFJ32My1_eP9"
      },
      "outputs": [],
      "source": [
        "number, col = disp_markdown(number)"
      ]
    },
    {
      "cell_type": "code",
      "execution_count": null,
      "metadata": {
        "colab": {
          "background_save": true
        },
        "id": "0TJ0R8-I_eP9"
      },
      "outputs": [],
      "source": [
        "print(\"=\"*30,\"value_counts\",\"=\"*30)\n",
        "display(df_train[col].value_counts(dropna=False).head())\n",
        "display(df_test[col].value_counts(dropna=False).head())\n",
        "print(\"=\"*30,\"na\",\"=\"*30)\n",
        "print(\"train:\",df_train[col].isna().sum())\n",
        "print(\"test :\",df_test[col].isna().sum())\n",
        "print(\"=\"*30,\"dtypes\",\"=\"*30)\n",
        "print(df_train[col].dtypes)\n",
        "print(df_test[col].dtypes)"
      ]
    },
    {
      "cell_type": "code",
      "execution_count": null,
      "metadata": {
        "colab": {
          "background_save": true
        },
        "id": "Bz6tALUG_eP9"
      },
      "outputs": [],
      "source": [
        "HistBox(df_train[col])\n",
        "HistBox(df_test[col])"
      ]
    },
    {
      "cell_type": "code",
      "execution_count": null,
      "metadata": {
        "colab": {
          "background_save": true
        },
        "id": "x4dpSb2Q_eP9"
      },
      "outputs": [],
      "source": [
        "set(df_test[col]) - set(df_train[col])"
      ]
    },
    {
      "cell_type": "code",
      "execution_count": null,
      "metadata": {
        "colab": {
          "background_save": true
        },
        "id": "fa7gmtco_eP-"
      },
      "outputs": [],
      "source": [
        "insert_loc = df_test.columns.get_loc(col)\n",
        "unique = df_train_raw[col].unique()\n",
        "unique.sort()\n",
        "for i, u in enumerate(unique):\n",
        "  df_test.insert(insert_loc+i+1, f\"{col}_{u}\", (df_test[col]==u).astype(\"uint8\"))\n",
        "df_test.drop(col, axis=1, inplace=True)\n",
        "df_train = make_dummy(df_train, col, drop=False)"
      ]
    },
    {
      "cell_type": "code",
      "execution_count": null,
      "metadata": {
        "colab": {
          "background_save": true
        },
        "id": "VLNTS3r7_eP-"
      },
      "outputs": [],
      "source": [
        "number, col = disp_markdown(number)"
      ]
    },
    {
      "cell_type": "code",
      "execution_count": null,
      "metadata": {
        "colab": {
          "background_save": true
        },
        "id": "m1IzPDuI_eP-"
      },
      "outputs": [],
      "source": [
        "print(\"=\"*30,\"value_counts\",\"=\"*30)\n",
        "display(df_train[col].value_counts(dropna=False).head())\n",
        "display(df_test[col].value_counts(dropna=False).head())\n",
        "print(\"=\"*30,\"na\",\"=\"*30)\n",
        "print(\"train:\",df_train[col].isna().sum())\n",
        "print(\"test :\",df_test[col].isna().sum())\n",
        "print(\"=\"*30,\"dtypes\",\"=\"*30)\n",
        "print(df_train[col].dtypes)\n",
        "print(df_test[col].dtypes)"
      ]
    },
    {
      "cell_type": "code",
      "execution_count": null,
      "metadata": {
        "colab": {
          "background_save": true
        },
        "id": "SGk5xfDw_eP-"
      },
      "outputs": [],
      "source": [
        "print(df_train[col].nunique(), df_test[col].nunique())\n",
        "set(df_test[col]) - set(df_train[col])"
      ]
    },
    {
      "cell_type": "code",
      "execution_count": null,
      "metadata": {
        "colab": {
          "background_save": true
        },
        "id": "vO81YRpg_eP-"
      },
      "outputs": [],
      "source": [
        "insert_loc = df_test.columns.get_loc(col)\n",
        "unique = df_train_raw[col].unique()\n",
        "unique.sort()\n",
        "for i, u in enumerate(unique):\n",
        "  df_test.insert(insert_loc+i+1, f\"{col}_{u}\", (df_test[col]==u).astype(\"uint8\"))\n",
        "df_test.drop(col, axis=1, inplace=True)\n",
        "df_train = make_dummy(df_train, col, drop=False)"
      ]
    },
    {
      "cell_type": "code",
      "execution_count": null,
      "metadata": {
        "colab": {
          "background_save": true
        },
        "id": "oBh0Vs3D_eP_"
      },
      "outputs": [],
      "source": [
        "number, col = disp_markdown(number)"
      ]
    },
    {
      "cell_type": "code",
      "execution_count": null,
      "metadata": {
        "colab": {
          "background_save": true
        },
        "id": "XB2SkScU_eP_"
      },
      "outputs": [],
      "source": [
        "print(\"=\"*30,\"value_counts\",\"=\"*30)\n",
        "display(df_train[col].value_counts(dropna=False).head())\n",
        "display(df_test[col].value_counts(dropna=False).head())\n",
        "print(\"=\"*30,\"na\",\"=\"*30)\n",
        "print(\"train:\",df_train[col].isna().sum())\n",
        "print(\"test :\",df_test[col].isna().sum())\n",
        "print(\"=\"*30,\"dtypes\",\"=\"*30)\n",
        "print(df_train[col].dtypes)\n",
        "print(df_test[col].dtypes)"
      ]
    },
    {
      "cell_type": "code",
      "execution_count": null,
      "metadata": {
        "colab": {
          "background_save": true
        },
        "id": "meHQX4vC_eP_"
      },
      "outputs": [],
      "source": [
        "print(df_train[col].nunique(), df_test[col].nunique())\n",
        "set(df_test[col]) - set(df_train[col])"
      ]
    },
    {
      "cell_type": "code",
      "execution_count": null,
      "metadata": {
        "colab": {
          "background_save": true
        },
        "id": "N7DSi48U_eP_"
      },
      "outputs": [],
      "source": [
        "insert_loc = df_test.columns.get_loc(col)\n",
        "unique = df_train_raw[col].unique()\n",
        "unique.sort()\n",
        "for i, u in enumerate(unique):\n",
        "  df_test.insert(insert_loc+i+1, f\"{col}_{u}\", (df_test[col]==u).astype(\"uint8\"))\n",
        "df_test.drop(col, axis=1, inplace=True)\n",
        "df_train = make_dummy(df_train, col, drop=False)"
      ]
    },
    {
      "cell_type": "code",
      "execution_count": null,
      "metadata": {
        "colab": {
          "background_save": true
        },
        "id": "T1CGeUyW_eP_"
      },
      "outputs": [],
      "source": [
        "number, col = disp_markdown(number)"
      ]
    },
    {
      "cell_type": "code",
      "execution_count": null,
      "metadata": {
        "colab": {
          "background_save": true
        },
        "id": "Oc_wuKSJ_eQA"
      },
      "outputs": [],
      "source": [
        "print(\"=\"*30,\"value_counts\",\"=\"*30)\n",
        "display(df_train[col].value_counts(dropna=False).head())\n",
        "display(df_test[col].value_counts(dropna=False).head())\n",
        "print(\"=\"*30,\"na\",\"=\"*30)\n",
        "print(\"train:\",df_train[col].isna().sum())\n",
        "print(\"test :\",df_test[col].isna().sum())\n",
        "print(\"=\"*30,\"dtypes\",\"=\"*30)\n",
        "print(df_train[col].dtypes)\n",
        "print(df_test[col].dtypes)"
      ]
    },
    {
      "cell_type": "code",
      "execution_count": null,
      "metadata": {
        "colab": {
          "background_save": true
        },
        "id": "JszXZODy_eQA"
      },
      "outputs": [],
      "source": [
        "print(df_train[col].nunique(), df_test[col].nunique())\n",
        "set(df_test[col]) - set(df_train[col])"
      ]
    },
    {
      "cell_type": "code",
      "execution_count": null,
      "metadata": {
        "colab": {
          "background_save": true
        },
        "id": "0DK8B9lS_eQA"
      },
      "outputs": [],
      "source": [
        "insert_loc = df_test.columns.get_loc(col)\n",
        "unique = df_train_raw[col].unique()\n",
        "unique.sort()\n",
        "for i, u in enumerate(unique):\n",
        "  df_test.insert(insert_loc+i+1, f\"{col}_{u}\", (df_test[col]==u).astype(\"uint8\"))\n",
        "df_test.drop(col, axis=1, inplace=True)\n",
        "df_train = make_dummy(df_train, col, drop=False)"
      ]
    },
    {
      "cell_type": "markdown",
      "metadata": {
        "id": "xeBooP2ZhTVd"
      },
      "source": [
        "# 出力"
      ]
    },
    {
      "cell_type": "code",
      "execution_count": null,
      "metadata": {
        "colab": {
          "background_save": true
        },
        "id": "NQMzRV9zr0f-"
      },
      "outputs": [],
      "source": [
        "if len(finally_remove_cols) > 0:\n",
        "  df_train.drop(finally_remove_cols, axis=1, inplace=True)\n",
        "  df_test.drop(finally_remove_cols, axis=1, inplace=True)\n",
        "df_train = opt_dtype_df(df_train)\n",
        "df_test = opt_dtype_df(df_test)\n",
        "df_train.to_parquet(file_path_inter_train)\n",
        "df_test.to_parquet(file_path_inter_test)"
      ]
    },
    {
      "cell_type": "code",
      "execution_count": null,
      "metadata": {
        "colab": {
          "background_save": true
        },
        "id": "y8OglDgf2QHD"
      },
      "outputs": [],
      "source": [
        "file_path_inter_train"
      ]
    },
    {
      "cell_type": "code",
      "execution_count": null,
      "metadata": {
        "colab": {
          "background_save": true
        },
        "id": "YRFc1_JiyGsz"
      },
      "outputs": [],
      "source": [
        "df_train.head()"
      ]
    },
    {
      "cell_type": "code",
      "execution_count": null,
      "metadata": {
        "colab": {
          "background_save": true
        },
        "id": "qAvCdC6qymyK"
      },
      "outputs": [],
      "source": [
        "df_test.head()"
      ]
    },
    {
      "cell_type": "code",
      "execution_count": null,
      "metadata": {
        "colab": {
          "background_save": true
        },
        "id": "pTCe_Woaynk2"
      },
      "outputs": [],
      "source": [
        "df_train.info()"
      ]
    },
    {
      "cell_type": "code",
      "execution_count": null,
      "metadata": {
        "colab": {
          "background_save": true
        },
        "id": "iA35yo0lzCKa"
      },
      "outputs": [],
      "source": [
        "df_test.info()"
      ]
    },
    {
      "cell_type": "code",
      "execution_count": null,
      "metadata": {
        "colab": {
          "background_save": true
        },
        "id": "b4u0Bjrozb2j"
      },
      "outputs": [],
      "source": [
        "nas=df_train.isna().sum()\n",
        "display(nas[nas>0])"
      ]
    },
    {
      "cell_type": "code",
      "execution_count": null,
      "metadata": {
        "id": "noLrdHkzKdWL"
      },
      "outputs": [],
      "source": [
        "nas=df_test.isna().sum()\n",
        "display(nas[nas>0])"
      ]
    },
    {
      "cell_type": "code",
      "execution_count": null,
      "metadata": {
        "id": "dMCdEG2pKfPA"
      },
      "outputs": [],
      "source": []
    }
  ],
  "metadata": {
    "colab": {
      "machine_shape": "hm",
      "provenance": [],
      "authorship_tag": "ABX9TyMn6yiilb4j8VJFxU/4DISP",
      "include_colab_link": true
    },
    "kernelspec": {
      "display_name": "Python 3",
      "name": "python3"
    },
    "language_info": {
      "name": "python"
    }
  },
  "nbformat": 4,
  "nbformat_minor": 0
}